{
 "cells": [
  {
   "cell_type": "code",
   "execution_count": 1,
   "metadata": {
    "collapsed": true
   },
   "outputs": [],
   "source": [
    "import numpy as np\n",
    "import pandas as pd"
   ]
  },
  {
   "cell_type": "code",
   "execution_count": 2,
   "metadata": {
    "collapsed": true
   },
   "outputs": [],
   "source": [
    "import matplotlib\n",
    "import seaborn as sbn\n",
    "import matplotlib.pylab as plt\n",
    "%matplotlib inline"
   ]
  },
  {
   "cell_type": "markdown",
   "metadata": {},
   "source": [
    "## Data Reading"
   ]
  },
  {
   "cell_type": "code",
   "execution_count": 3,
   "metadata": {
    "collapsed": false
   },
   "outputs": [
    {
     "name": "stderr",
     "output_type": "stream",
     "text": [
      "C:\\Anaconda\\lib\\site-packages\\pandas\\io\\parsers.py:1170: DtypeWarning: Columns (7) have mixed types. Specify dtype option on import or set low_memory=False.\n",
      "  data = self._reader.read(nrows)\n"
     ]
    }
   ],
   "source": [
    "df = pd.read_csv(\"train.csv\")"
   ]
  },
  {
   "cell_type": "code",
   "execution_count": 6,
   "metadata": {
    "collapsed": false
   },
   "outputs": [
    {
     "data": {
      "text/html": [
       "<div>\n",
       "<table border=\"1\" class=\"dataframe\">\n",
       "  <thead>\n",
       "    <tr style=\"text-align: right;\">\n",
       "      <th></th>\n",
       "      <th>Store</th>\n",
       "      <th>DayOfWeek</th>\n",
       "      <th>Date</th>\n",
       "      <th>Sales</th>\n",
       "      <th>Customers</th>\n",
       "      <th>Open</th>\n",
       "      <th>Promo</th>\n",
       "      <th>StateHoliday</th>\n",
       "      <th>SchoolHoliday</th>\n",
       "    </tr>\n",
       "  </thead>\n",
       "  <tbody>\n",
       "    <tr>\n",
       "      <th>0</th>\n",
       "      <td>1</td>\n",
       "      <td>5</td>\n",
       "      <td>2015-07-31</td>\n",
       "      <td>5263</td>\n",
       "      <td>555</td>\n",
       "      <td>1</td>\n",
       "      <td>1</td>\n",
       "      <td>0</td>\n",
       "      <td>1</td>\n",
       "    </tr>\n",
       "    <tr>\n",
       "      <th>1</th>\n",
       "      <td>2</td>\n",
       "      <td>5</td>\n",
       "      <td>2015-07-31</td>\n",
       "      <td>6064</td>\n",
       "      <td>625</td>\n",
       "      <td>1</td>\n",
       "      <td>1</td>\n",
       "      <td>0</td>\n",
       "      <td>1</td>\n",
       "    </tr>\n",
       "    <tr>\n",
       "      <th>2</th>\n",
       "      <td>3</td>\n",
       "      <td>5</td>\n",
       "      <td>2015-07-31</td>\n",
       "      <td>8314</td>\n",
       "      <td>821</td>\n",
       "      <td>1</td>\n",
       "      <td>1</td>\n",
       "      <td>0</td>\n",
       "      <td>1</td>\n",
       "    </tr>\n",
       "    <tr>\n",
       "      <th>3</th>\n",
       "      <td>4</td>\n",
       "      <td>5</td>\n",
       "      <td>2015-07-31</td>\n",
       "      <td>13995</td>\n",
       "      <td>1498</td>\n",
       "      <td>1</td>\n",
       "      <td>1</td>\n",
       "      <td>0</td>\n",
       "      <td>1</td>\n",
       "    </tr>\n",
       "    <tr>\n",
       "      <th>4</th>\n",
       "      <td>5</td>\n",
       "      <td>5</td>\n",
       "      <td>2015-07-31</td>\n",
       "      <td>4822</td>\n",
       "      <td>559</td>\n",
       "      <td>1</td>\n",
       "      <td>1</td>\n",
       "      <td>0</td>\n",
       "      <td>1</td>\n",
       "    </tr>\n",
       "  </tbody>\n",
       "</table>\n",
       "</div>"
      ],
      "text/plain": [
       "   Store  DayOfWeek       Date  Sales  Customers  Open  Promo StateHoliday  \\\n",
       "0      1          5 2015-07-31   5263        555     1      1            0   \n",
       "1      2          5 2015-07-31   6064        625     1      1            0   \n",
       "2      3          5 2015-07-31   8314        821     1      1            0   \n",
       "3      4          5 2015-07-31  13995       1498     1      1            0   \n",
       "4      5          5 2015-07-31   4822        559     1      1            0   \n",
       "\n",
       "   SchoolHoliday  \n",
       "0              1  \n",
       "1              1  \n",
       "2              1  \n",
       "3              1  \n",
       "4              1  "
      ]
     },
     "execution_count": 6,
     "metadata": {},
     "output_type": "execute_result"
    }
   ],
   "source": [
    "df.Date = pd.to_datetime(df.Date)\n",
    "df.StateHoliday = df.StateHoliday.astype(str)\n",
    "df.head()"
   ]
  },
  {
   "cell_type": "code",
   "execution_count": 6,
   "metadata": {
    "collapsed": false
   },
   "outputs": [
    {
     "data": {
      "text/plain": [
       "array(['0', 'a', 'b', 'c'], dtype=object)"
      ]
     },
     "execution_count": 6,
     "metadata": {},
     "output_type": "execute_result"
    }
   ],
   "source": [
    "df.StateHoliday.unique()"
   ]
  },
  {
   "cell_type": "code",
   "execution_count": 5,
   "metadata": {
    "collapsed": false
   },
   "outputs": [
    {
     "data": {
      "text/html": [
       "<div>\n",
       "<table border=\"1\" class=\"dataframe\">\n",
       "  <thead>\n",
       "    <tr style=\"text-align: right;\">\n",
       "      <th></th>\n",
       "      <th>Store</th>\n",
       "      <th>StoreType</th>\n",
       "      <th>Assortment</th>\n",
       "      <th>CompetitionDistance</th>\n",
       "      <th>CompetitionOpenSinceMonth</th>\n",
       "      <th>CompetitionOpenSinceYear</th>\n",
       "      <th>Promo2</th>\n",
       "      <th>Promo2SinceWeek</th>\n",
       "      <th>Promo2SinceYear</th>\n",
       "      <th>PromoInterval</th>\n",
       "    </tr>\n",
       "  </thead>\n",
       "  <tbody>\n",
       "    <tr>\n",
       "      <th>0</th>\n",
       "      <td>1</td>\n",
       "      <td>c</td>\n",
       "      <td>a</td>\n",
       "      <td>1270</td>\n",
       "      <td>9</td>\n",
       "      <td>2008</td>\n",
       "      <td>0</td>\n",
       "      <td>NaN</td>\n",
       "      <td>NaN</td>\n",
       "      <td>NaN</td>\n",
       "    </tr>\n",
       "    <tr>\n",
       "      <th>1</th>\n",
       "      <td>2</td>\n",
       "      <td>a</td>\n",
       "      <td>a</td>\n",
       "      <td>570</td>\n",
       "      <td>11</td>\n",
       "      <td>2007</td>\n",
       "      <td>1</td>\n",
       "      <td>13</td>\n",
       "      <td>2010</td>\n",
       "      <td>Jan,Apr,Jul,Oct</td>\n",
       "    </tr>\n",
       "    <tr>\n",
       "      <th>2</th>\n",
       "      <td>3</td>\n",
       "      <td>a</td>\n",
       "      <td>a</td>\n",
       "      <td>14130</td>\n",
       "      <td>12</td>\n",
       "      <td>2006</td>\n",
       "      <td>1</td>\n",
       "      <td>14</td>\n",
       "      <td>2011</td>\n",
       "      <td>Jan,Apr,Jul,Oct</td>\n",
       "    </tr>\n",
       "    <tr>\n",
       "      <th>3</th>\n",
       "      <td>4</td>\n",
       "      <td>c</td>\n",
       "      <td>c</td>\n",
       "      <td>620</td>\n",
       "      <td>9</td>\n",
       "      <td>2009</td>\n",
       "      <td>0</td>\n",
       "      <td>NaN</td>\n",
       "      <td>NaN</td>\n",
       "      <td>NaN</td>\n",
       "    </tr>\n",
       "    <tr>\n",
       "      <th>4</th>\n",
       "      <td>5</td>\n",
       "      <td>a</td>\n",
       "      <td>a</td>\n",
       "      <td>29910</td>\n",
       "      <td>4</td>\n",
       "      <td>2015</td>\n",
       "      <td>0</td>\n",
       "      <td>NaN</td>\n",
       "      <td>NaN</td>\n",
       "      <td>NaN</td>\n",
       "    </tr>\n",
       "  </tbody>\n",
       "</table>\n",
       "</div>"
      ],
      "text/plain": [
       "   Store StoreType Assortment  CompetitionDistance  CompetitionOpenSinceMonth  \\\n",
       "0      1         c          a                 1270                          9   \n",
       "1      2         a          a                  570                         11   \n",
       "2      3         a          a                14130                         12   \n",
       "3      4         c          c                  620                          9   \n",
       "4      5         a          a                29910                          4   \n",
       "\n",
       "   CompetitionOpenSinceYear  Promo2  Promo2SinceWeek  Promo2SinceYear  \\\n",
       "0                      2008       0              NaN              NaN   \n",
       "1                      2007       1               13             2010   \n",
       "2                      2006       1               14             2011   \n",
       "3                      2009       0              NaN              NaN   \n",
       "4                      2015       0              NaN              NaN   \n",
       "\n",
       "     PromoInterval  \n",
       "0              NaN  \n",
       "1  Jan,Apr,Jul,Oct  \n",
       "2  Jan,Apr,Jul,Oct  \n",
       "3              NaN  \n",
       "4              NaN  "
      ]
     },
     "execution_count": 5,
     "metadata": {},
     "output_type": "execute_result"
    }
   ],
   "source": [
    "store = pd.read_csv(\"store.csv\")\n",
    "store.head()"
   ]
  },
  {
   "cell_type": "markdown",
   "metadata": {},
   "source": [
    "## Statistical and Graphical analysis"
   ]
  },
  {
   "cell_type": "code",
   "execution_count": 10,
   "metadata": {
    "collapsed": true
   },
   "outputs": [],
   "source": [
    "df = pd.merge(df, store, on='Store')"
   ]
  },
  {
   "cell_type": "code",
   "execution_count": 54,
   "metadata": {
    "collapsed": false
   },
   "outputs": [
    {
     "data": {
      "text/plain": [
       "<matplotlib.axes._subplots.AxesSubplot at 0x2158c9e8>"
      ]
     },
     "execution_count": 54,
     "metadata": {},
     "output_type": "execute_result"
    },
    {
     "data": {
      "image/png": "[encoded data removed]",
      "text/plain": [
       "<matplotlib.figure.Figure at 0x2157ec88>"
      ]
     },
     "metadata": {},
     "output_type": "display_data"
    }
   ],
   "source": [
    "ax = df[df.Store==1].plot(x='Date',y='Sales',color='Blue', label=\"Store 1\",alpha=0.2)\n",
    "df[df.Store==115].plot(x='Date',y='Sales', color='Red', label=\"Store 115\", ax=ax,alpha=0.2)\n",
    "df[df.Store==1115].plot(x='Date',y='Sales', color='LightGreen', label=\"Store 1115\", ax=ax,alpha=0.2)\n",
    "df[df.Store==300].plot(x='Date',y='Sales', color='Purple', label=\"Store 300\", ax=ax,alpha=0.2)"
   ]
  },
  {
   "cell_type": "code",
   "execution_count": 59,
   "metadata": {
    "collapsed": false
   },
   "outputs": [
    {
     "data": {
      "text/html": [
       "<div>\n",
       "<table border=\"1\" class=\"dataframe\">\n",
       "  <thead>\n",
       "    <tr style=\"text-align: right;\">\n",
       "      <th>Date</th>\n",
       "      <th>2013-01-01 00:00:00</th>\n",
       "      <th>2013-01-02 00:00:00</th>\n",
       "      <th>2013-01-03 00:00:00</th>\n",
       "      <th>2013-01-04 00:00:00</th>\n",
       "      <th>2013-01-05 00:00:00</th>\n",
       "      <th>2013-01-06 00:00:00</th>\n",
       "      <th>2013-01-07 00:00:00</th>\n",
       "      <th>2013-01-08 00:00:00</th>\n",
       "      <th>2013-01-09 00:00:00</th>\n",
       "      <th>2013-01-10 00:00:00</th>\n",
       "      <th>...</th>\n",
       "      <th>2015-07-22 00:00:00</th>\n",
       "      <th>2015-07-23 00:00:00</th>\n",
       "      <th>2015-07-24 00:00:00</th>\n",
       "      <th>2015-07-25 00:00:00</th>\n",
       "      <th>2015-07-26 00:00:00</th>\n",
       "      <th>2015-07-27 00:00:00</th>\n",
       "      <th>2015-07-28 00:00:00</th>\n",
       "      <th>2015-07-29 00:00:00</th>\n",
       "      <th>2015-07-30 00:00:00</th>\n",
       "      <th>2015-07-31 00:00:00</th>\n",
       "    </tr>\n",
       "    <tr>\n",
       "      <th>Store</th>\n",
       "      <th></th>\n",
       "      <th></th>\n",
       "      <th></th>\n",
       "      <th></th>\n",
       "      <th></th>\n",
       "      <th></th>\n",
       "      <th></th>\n",
       "      <th></th>\n",
       "      <th></th>\n",
       "      <th></th>\n",
       "      <th></th>\n",
       "      <th></th>\n",
       "      <th></th>\n",
       "      <th></th>\n",
       "      <th></th>\n",
       "      <th></th>\n",
       "      <th></th>\n",
       "      <th></th>\n",
       "      <th></th>\n",
       "      <th></th>\n",
       "      <th></th>\n",
       "    </tr>\n",
       "  </thead>\n",
       "  <tbody>\n",
       "    <tr>\n",
       "      <th>1</th>\n",
       "      <td>0</td>\n",
       "      <td>5530</td>\n",
       "      <td>4327</td>\n",
       "      <td>4486</td>\n",
       "      <td>4997</td>\n",
       "      <td>0</td>\n",
       "      <td>7176</td>\n",
       "      <td>5580</td>\n",
       "      <td>5471</td>\n",
       "      <td>4892</td>\n",
       "      <td>...</td>\n",
       "      <td>3464</td>\n",
       "      <td>3769</td>\n",
       "      <td>3706</td>\n",
       "      <td>4364</td>\n",
       "      <td>0</td>\n",
       "      <td>6102</td>\n",
       "      <td>5011</td>\n",
       "      <td>4782</td>\n",
       "      <td>5020</td>\n",
       "      <td>5263</td>\n",
       "    </tr>\n",
       "    <tr>\n",
       "      <th>2</th>\n",
       "      <td>0</td>\n",
       "      <td>4422</td>\n",
       "      <td>4159</td>\n",
       "      <td>4484</td>\n",
       "      <td>2342</td>\n",
       "      <td>0</td>\n",
       "      <td>6775</td>\n",
       "      <td>6318</td>\n",
       "      <td>6763</td>\n",
       "      <td>5618</td>\n",
       "      <td>...</td>\n",
       "      <td>5093</td>\n",
       "      <td>4108</td>\n",
       "      <td>3854</td>\n",
       "      <td>2512</td>\n",
       "      <td>0</td>\n",
       "      <td>6627</td>\n",
       "      <td>5671</td>\n",
       "      <td>6402</td>\n",
       "      <td>5567</td>\n",
       "      <td>6064</td>\n",
       "    </tr>\n",
       "    <tr>\n",
       "      <th>3</th>\n",
       "      <td>0</td>\n",
       "      <td>6823</td>\n",
       "      <td>5902</td>\n",
       "      <td>6069</td>\n",
       "      <td>4523</td>\n",
       "      <td>0</td>\n",
       "      <td>12247</td>\n",
       "      <td>9800</td>\n",
       "      <td>8001</td>\n",
       "      <td>7772</td>\n",
       "      <td>...</td>\n",
       "      <td>5414</td>\n",
       "      <td>5702</td>\n",
       "      <td>5080</td>\n",
       "      <td>3878</td>\n",
       "      <td>0</td>\n",
       "      <td>8107</td>\n",
       "      <td>8864</td>\n",
       "      <td>7610</td>\n",
       "      <td>8977</td>\n",
       "      <td>8314</td>\n",
       "    </tr>\n",
       "    <tr>\n",
       "      <th>4</th>\n",
       "      <td>0</td>\n",
       "      <td>9941</td>\n",
       "      <td>8247</td>\n",
       "      <td>8290</td>\n",
       "      <td>10338</td>\n",
       "      <td>0</td>\n",
       "      <td>12112</td>\n",
       "      <td>10031</td>\n",
       "      <td>8857</td>\n",
       "      <td>9472</td>\n",
       "      <td>...</td>\n",
       "      <td>8503</td>\n",
       "      <td>7286</td>\n",
       "      <td>8322</td>\n",
       "      <td>9322</td>\n",
       "      <td>0</td>\n",
       "      <td>11812</td>\n",
       "      <td>10275</td>\n",
       "      <td>10514</td>\n",
       "      <td>10387</td>\n",
       "      <td>13995</td>\n",
       "    </tr>\n",
       "    <tr>\n",
       "      <th>5</th>\n",
       "      <td>0</td>\n",
       "      <td>4253</td>\n",
       "      <td>3465</td>\n",
       "      <td>4456</td>\n",
       "      <td>1590</td>\n",
       "      <td>0</td>\n",
       "      <td>6978</td>\n",
       "      <td>5718</td>\n",
       "      <td>5974</td>\n",
       "      <td>4999</td>\n",
       "      <td>...</td>\n",
       "      <td>3595</td>\n",
       "      <td>3713</td>\n",
       "      <td>3815</td>\n",
       "      <td>2030</td>\n",
       "      <td>0</td>\n",
       "      <td>7059</td>\n",
       "      <td>6083</td>\n",
       "      <td>5899</td>\n",
       "      <td>4943</td>\n",
       "      <td>4822</td>\n",
       "    </tr>\n",
       "  </tbody>\n",
       "</table>\n",
       "<p>5 rows × 942 columns</p>\n",
       "</div>"
      ],
      "text/plain": [
       "Date   2013-01-01  2013-01-02  2013-01-03  2013-01-04  2013-01-05  2013-01-06  \\\n",
       "Store                                                                           \n",
       "1               0        5530        4327        4486        4997           0   \n",
       "2               0        4422        4159        4484        2342           0   \n",
       "3               0        6823        5902        6069        4523           0   \n",
       "4               0        9941        8247        8290       10338           0   \n",
       "5               0        4253        3465        4456        1590           0   \n",
       "\n",
       "Date   2013-01-07  2013-01-08  2013-01-09  2013-01-10     ...      2015-07-22  \\\n",
       "Store                                                     ...                   \n",
       "1            7176        5580        5471        4892     ...            3464   \n",
       "2            6775        6318        6763        5618     ...            5093   \n",
       "3           12247        9800        8001        7772     ...            5414   \n",
       "4           12112       10031        8857        9472     ...            8503   \n",
       "5            6978        5718        5974        4999     ...            3595   \n",
       "\n",
       "Date   2015-07-23  2015-07-24  2015-07-25  2015-07-26  2015-07-27  2015-07-28  \\\n",
       "Store                                                                           \n",
       "1            3769        3706        4364           0        6102        5011   \n",
       "2            4108        3854        2512           0        6627        5671   \n",
       "3            5702        5080        3878           0        8107        8864   \n",
       "4            7286        8322        9322           0       11812       10275   \n",
       "5            3713        3815        2030           0        7059        6083   \n",
       "\n",
       "Date   2015-07-29  2015-07-30  2015-07-31  \n",
       "Store                                      \n",
       "1            4782        5020        5263  \n",
       "2            6402        5567        6064  \n",
       "3            7610        8977        8314  \n",
       "4           10514       10387       13995  \n",
       "5            5899        4943        4822  \n",
       "\n",
       "[5 rows x 942 columns]"
      ]
     },
     "execution_count": 59,
     "metadata": {},
     "output_type": "execute_result"
    }
   ],
   "source": [
    "pivot = df.pivot(index='Store',columns='Date',values='Sales')\n",
    "pivot.head()"
   ]
  },
  {
   "cell_type": "code",
   "execution_count": 66,
   "metadata": {
    "collapsed": false
   },
   "outputs": [],
   "source": [
    "pivot['median'] = pivot.median(axis=1)\n",
    "pivot['std'] = pivot.std(axis=1)"
   ]
  },
  {
   "cell_type": "code",
   "execution_count": 67,
   "metadata": {
    "collapsed": false
   },
   "outputs": [
    {
     "data": {
      "text/html": [
       "<div>\n",
       "<table border=\"1\" class=\"dataframe\">\n",
       "  <thead>\n",
       "    <tr style=\"text-align: right;\">\n",
       "      <th>Date</th>\n",
       "      <th>2013-01-01 00:00:00</th>\n",
       "      <th>2013-01-02 00:00:00</th>\n",
       "      <th>2013-01-03 00:00:00</th>\n",
       "      <th>2013-01-04 00:00:00</th>\n",
       "      <th>2013-01-05 00:00:00</th>\n",
       "      <th>2013-01-06 00:00:00</th>\n",
       "      <th>2013-01-07 00:00:00</th>\n",
       "      <th>2013-01-08 00:00:00</th>\n",
       "      <th>2013-01-09 00:00:00</th>\n",
       "      <th>2013-01-10 00:00:00</th>\n",
       "      <th>...</th>\n",
       "      <th>2015-07-24 00:00:00</th>\n",
       "      <th>2015-07-25 00:00:00</th>\n",
       "      <th>2015-07-26 00:00:00</th>\n",
       "      <th>2015-07-27 00:00:00</th>\n",
       "      <th>2015-07-28 00:00:00</th>\n",
       "      <th>2015-07-29 00:00:00</th>\n",
       "      <th>2015-07-30 00:00:00</th>\n",
       "      <th>2015-07-31 00:00:00</th>\n",
       "      <th>median</th>\n",
       "      <th>std</th>\n",
       "    </tr>\n",
       "    <tr>\n",
       "      <th>Store</th>\n",
       "      <th></th>\n",
       "      <th></th>\n",
       "      <th></th>\n",
       "      <th></th>\n",
       "      <th></th>\n",
       "      <th></th>\n",
       "      <th></th>\n",
       "      <th></th>\n",
       "      <th></th>\n",
       "      <th></th>\n",
       "      <th></th>\n",
       "      <th></th>\n",
       "      <th></th>\n",
       "      <th></th>\n",
       "      <th></th>\n",
       "      <th></th>\n",
       "      <th></th>\n",
       "      <th></th>\n",
       "      <th></th>\n",
       "      <th></th>\n",
       "      <th></th>\n",
       "    </tr>\n",
       "  </thead>\n",
       "  <tbody>\n",
       "    <tr>\n",
       "      <th>1</th>\n",
       "      <td>0</td>\n",
       "      <td>5530</td>\n",
       "      <td>4327</td>\n",
       "      <td>4486</td>\n",
       "      <td>4997</td>\n",
       "      <td>0</td>\n",
       "      <td>7176</td>\n",
       "      <td>5580</td>\n",
       "      <td>5471</td>\n",
       "      <td>4892</td>\n",
       "      <td>...</td>\n",
       "      <td>3706</td>\n",
       "      <td>4364</td>\n",
       "      <td>0</td>\n",
       "      <td>6102</td>\n",
       "      <td>5011</td>\n",
       "      <td>4782</td>\n",
       "      <td>5020</td>\n",
       "      <td>5263</td>\n",
       "      <td>4373.5</td>\n",
       "      <td>2014.395973</td>\n",
       "    </tr>\n",
       "    <tr>\n",
       "      <th>2</th>\n",
       "      <td>0</td>\n",
       "      <td>4422</td>\n",
       "      <td>4159</td>\n",
       "      <td>4484</td>\n",
       "      <td>2342</td>\n",
       "      <td>0</td>\n",
       "      <td>6775</td>\n",
       "      <td>6318</td>\n",
       "      <td>6763</td>\n",
       "      <td>5618</td>\n",
       "      <td>...</td>\n",
       "      <td>3854</td>\n",
       "      <td>2512</td>\n",
       "      <td>0</td>\n",
       "      <td>6627</td>\n",
       "      <td>5671</td>\n",
       "      <td>6402</td>\n",
       "      <td>5567</td>\n",
       "      <td>6064</td>\n",
       "      <td>4395.5</td>\n",
       "      <td>2362.390429</td>\n",
       "    </tr>\n",
       "    <tr>\n",
       "      <th>3</th>\n",
       "      <td>0</td>\n",
       "      <td>6823</td>\n",
       "      <td>5902</td>\n",
       "      <td>6069</td>\n",
       "      <td>4523</td>\n",
       "      <td>0</td>\n",
       "      <td>12247</td>\n",
       "      <td>9800</td>\n",
       "      <td>8001</td>\n",
       "      <td>7772</td>\n",
       "      <td>...</td>\n",
       "      <td>5080</td>\n",
       "      <td>3878</td>\n",
       "      <td>0</td>\n",
       "      <td>8107</td>\n",
       "      <td>8864</td>\n",
       "      <td>7610</td>\n",
       "      <td>8977</td>\n",
       "      <td>8314</td>\n",
       "      <td>5892.0</td>\n",
       "      <td>3297.034802</td>\n",
       "    </tr>\n",
       "    <tr>\n",
       "      <th>4</th>\n",
       "      <td>0</td>\n",
       "      <td>9941</td>\n",
       "      <td>8247</td>\n",
       "      <td>8290</td>\n",
       "      <td>10338</td>\n",
       "      <td>0</td>\n",
       "      <td>12112</td>\n",
       "      <td>10031</td>\n",
       "      <td>8857</td>\n",
       "      <td>9472</td>\n",
       "      <td>...</td>\n",
       "      <td>8322</td>\n",
       "      <td>9322</td>\n",
       "      <td>0</td>\n",
       "      <td>11812</td>\n",
       "      <td>10275</td>\n",
       "      <td>10514</td>\n",
       "      <td>10387</td>\n",
       "      <td>13995</td>\n",
       "      <td>9062.0</td>\n",
       "      <td>4010.605485</td>\n",
       "    </tr>\n",
       "    <tr>\n",
       "      <th>5</th>\n",
       "      <td>0</td>\n",
       "      <td>4253</td>\n",
       "      <td>3465</td>\n",
       "      <td>4456</td>\n",
       "      <td>1590</td>\n",
       "      <td>0</td>\n",
       "      <td>6978</td>\n",
       "      <td>5718</td>\n",
       "      <td>5974</td>\n",
       "      <td>4999</td>\n",
       "      <td>...</td>\n",
       "      <td>3815</td>\n",
       "      <td>2030</td>\n",
       "      <td>0</td>\n",
       "      <td>7059</td>\n",
       "      <td>6083</td>\n",
       "      <td>5899</td>\n",
       "      <td>4943</td>\n",
       "      <td>4822</td>\n",
       "      <td>4180.0</td>\n",
       "      <td>2388.362917</td>\n",
       "    </tr>\n",
       "  </tbody>\n",
       "</table>\n",
       "<p>5 rows × 944 columns</p>\n",
       "</div>"
      ],
      "text/plain": [
       "Date   2013-01-01 00:00:00  2013-01-02 00:00:00  2013-01-03 00:00:00  \\\n",
       "Store                                                                  \n",
       "1                        0                 5530                 4327   \n",
       "2                        0                 4422                 4159   \n",
       "3                        0                 6823                 5902   \n",
       "4                        0                 9941                 8247   \n",
       "5                        0                 4253                 3465   \n",
       "\n",
       "Date   2013-01-04 00:00:00  2013-01-05 00:00:00  2013-01-06 00:00:00  \\\n",
       "Store                                                                  \n",
       "1                     4486                 4997                    0   \n",
       "2                     4484                 2342                    0   \n",
       "3                     6069                 4523                    0   \n",
       "4                     8290                10338                    0   \n",
       "5                     4456                 1590                    0   \n",
       "\n",
       "Date   2013-01-07 00:00:00  2013-01-08 00:00:00  2013-01-09 00:00:00  \\\n",
       "Store                                                                  \n",
       "1                     7176                 5580                 5471   \n",
       "2                     6775                 6318                 6763   \n",
       "3                    12247                 9800                 8001   \n",
       "4                    12112                10031                 8857   \n",
       "5                     6978                 5718                 5974   \n",
       "\n",
       "Date   2013-01-10 00:00:00     ...       2015-07-24 00:00:00  \\\n",
       "Store                          ...                             \n",
       "1                     4892     ...                      3706   \n",
       "2                     5618     ...                      3854   \n",
       "3                     7772     ...                      5080   \n",
       "4                     9472     ...                      8322   \n",
       "5                     4999     ...                      3815   \n",
       "\n",
       "Date   2015-07-25 00:00:00  2015-07-26 00:00:00  2015-07-27 00:00:00  \\\n",
       "Store                                                                  \n",
       "1                     4364                    0                 6102   \n",
       "2                     2512                    0                 6627   \n",
       "3                     3878                    0                 8107   \n",
       "4                     9322                    0                11812   \n",
       "5                     2030                    0                 7059   \n",
       "\n",
       "Date   2015-07-28 00:00:00  2015-07-29 00:00:00  2015-07-30 00:00:00  \\\n",
       "Store                                                                  \n",
       "1                     5011                 4782                 5020   \n",
       "2                     5671                 6402                 5567   \n",
       "3                     8864                 7610                 8977   \n",
       "4                    10275                10514                10387   \n",
       "5                     6083                 5899                 4943   \n",
       "\n",
       "Date   2015-07-31 00:00:00  median          std  \n",
       "Store                                            \n",
       "1                     5263  4373.5  2014.395973  \n",
       "2                     6064  4395.5  2362.390429  \n",
       "3                     8314  5892.0  3297.034802  \n",
       "4                    13995  9062.0  4010.605485  \n",
       "5                     4822  4180.0  2388.362917  \n",
       "\n",
       "[5 rows x 944 columns]"
      ]
     },
     "execution_count": 67,
     "metadata": {},
     "output_type": "execute_result"
    }
   ],
   "source": [
    "pivot.head()"
   ]
  },
  {
   "cell_type": "code",
   "execution_count": 96,
   "metadata": {
    "collapsed": false
   },
   "outputs": [
    {
     "data": {
      "text/plain": [
       "<matplotlib.axes._subplots.AxesSubplot at 0xab1e8d68>"
      ]
     },
     "execution_count": 96,
     "metadata": {},
     "output_type": "execute_result"
    },
    {
     "data": {
      "image/png": "[encoded data removed]",
      "text/plain": [
       "<matplotlib.figure.Figure at 0x30da2780>"
      ]
     },
     "metadata": {},
     "output_type": "display_data"
    }
   ],
   "source": [
    "sbn.stripplot(x='DayOfWeek', y='Sales', data = df[df.Store==400])"
   ]
  },
  {
   "cell_type": "code",
   "execution_count": 107,
   "metadata": {
    "collapsed": false
   },
   "outputs": [
    {
     "data": {
      "text/plain": [
       "<seaborn.axisgrid.FacetGrid at 0x118f17208>"
      ]
     },
     "execution_count": 107,
     "metadata": {},
     "output_type": "execute_result"
    },
    {
     "data": {
      "image/png": "[encoded data removed]",
      "text/plain": [
       "<matplotlib.figure.Figure at 0x122a8aa20>"
      ]
     },
     "metadata": {},
     "output_type": "display_data"
    }
   ],
   "source": [
    "sbn.factorplot(x=\"StoreType\", y=\"Sales\", hue=\"DayOfWeek\", data=df[df.Open==1])"
   ]
  },
  {
   "cell_type": "code",
   "execution_count": 106,
   "metadata": {
    "collapsed": false
   },
   "outputs": [
    {
     "data": {
      "text/plain": [
       "<seaborn.axisgrid.FacetGrid at 0x23c60780>"
      ]
     },
     "execution_count": 106,
     "metadata": {},
     "output_type": "execute_result"
    },
    {
     "data": {
      "image/png": "[encoded data removed]",
      "text/plain": [
       "<matplotlib.figure.Figure at 0x23c607b8>"
      ]
     },
     "metadata": {},
     "output_type": "display_data"
    }
   ],
   "source": [
    "sbn.factorplot(x=\"StoreType\", y=\"Sales\", hue=\"StateHoliday\", data=df[df.Open==1])"
   ]
  },
  {
   "cell_type": "code",
   "execution_count": 112,
   "metadata": {
    "collapsed": false
   },
   "outputs": [
    {
     "data": {
      "text/plain": [
       "<seaborn.axisgrid.FacetGrid at 0x114bcef60>"
      ]
     },
     "execution_count": 112,
     "metadata": {},
     "output_type": "execute_result"
    },
    {
     "data": {
      "image/png": "[encoded data removed]",
      "text/plain": [
       "<matplotlib.figure.Figure at 0x2435d2e8>"
      ]
     },
     "metadata": {},
     "output_type": "display_data"
    }
   ],
   "source": [
    "sbn.factorplot(x=\"StoreType\", y=\"Sales\", hue=\"Promo\", data=df[df.Open==1])"
   ]
  },
  {
   "cell_type": "markdown",
   "metadata": {},
   "source": [
    "## Test Reading"
   ]
  },
  {
   "cell_type": "code",
   "execution_count": 47,
   "metadata": {
    "collapsed": true
   },
   "outputs": [],
   "source": [
    "test = pd.read_csv(\"test.csv\")"
   ]
  },
  {
   "cell_type": "code",
   "execution_count": 23,
   "metadata": {
    "collapsed": false
   },
   "outputs": [
    {
     "data": {
      "text/html": [
       "<div>\n",
       "<table border=\"1\" class=\"dataframe\">\n",
       "  <thead>\n",
       "    <tr style=\"text-align: right;\">\n",
       "      <th></th>\n",
       "      <th>Id</th>\n",
       "      <th>Store</th>\n",
       "      <th>DayOfWeek</th>\n",
       "      <th>Date</th>\n",
       "      <th>Open</th>\n",
       "      <th>Promo</th>\n",
       "      <th>StateHoliday</th>\n",
       "      <th>SchoolHoliday</th>\n",
       "    </tr>\n",
       "  </thead>\n",
       "  <tbody>\n",
       "    <tr>\n",
       "      <th>0</th>\n",
       "      <td>1</td>\n",
       "      <td>1</td>\n",
       "      <td>4</td>\n",
       "      <td>2015-09-17</td>\n",
       "      <td>1</td>\n",
       "      <td>1</td>\n",
       "      <td>0</td>\n",
       "      <td>0</td>\n",
       "    </tr>\n",
       "    <tr>\n",
       "      <th>1</th>\n",
       "      <td>2</td>\n",
       "      <td>3</td>\n",
       "      <td>4</td>\n",
       "      <td>2015-09-17</td>\n",
       "      <td>1</td>\n",
       "      <td>1</td>\n",
       "      <td>0</td>\n",
       "      <td>0</td>\n",
       "    </tr>\n",
       "    <tr>\n",
       "      <th>2</th>\n",
       "      <td>3</td>\n",
       "      <td>7</td>\n",
       "      <td>4</td>\n",
       "      <td>2015-09-17</td>\n",
       "      <td>1</td>\n",
       "      <td>1</td>\n",
       "      <td>0</td>\n",
       "      <td>0</td>\n",
       "    </tr>\n",
       "    <tr>\n",
       "      <th>3</th>\n",
       "      <td>4</td>\n",
       "      <td>8</td>\n",
       "      <td>4</td>\n",
       "      <td>2015-09-17</td>\n",
       "      <td>1</td>\n",
       "      <td>1</td>\n",
       "      <td>0</td>\n",
       "      <td>0</td>\n",
       "    </tr>\n",
       "    <tr>\n",
       "      <th>4</th>\n",
       "      <td>5</td>\n",
       "      <td>9</td>\n",
       "      <td>4</td>\n",
       "      <td>2015-09-17</td>\n",
       "      <td>1</td>\n",
       "      <td>1</td>\n",
       "      <td>0</td>\n",
       "      <td>0</td>\n",
       "    </tr>\n",
       "  </tbody>\n",
       "</table>\n",
       "</div>"
      ],
      "text/plain": [
       "   Id  Store  DayOfWeek        Date  Open  Promo StateHoliday  SchoolHoliday\n",
       "0   1      1          4  2015-09-17     1      1            0              0\n",
       "1   2      3          4  2015-09-17     1      1            0              0\n",
       "2   3      7          4  2015-09-17     1      1            0              0\n",
       "3   4      8          4  2015-09-17     1      1            0              0\n",
       "4   5      9          4  2015-09-17     1      1            0              0"
      ]
     },
     "execution_count": 23,
     "metadata": {},
     "output_type": "execute_result"
    }
   ],
   "source": [
    "test.head()"
   ]
  },
  {
   "cell_type": "code",
   "execution_count": 36,
   "metadata": {
    "collapsed": false
   },
   "outputs": [],
   "source": [
    "index_list = ['Store','Open','Promo','StateHoliday','SchoolHoliday','DayOfWeek']\n",
    "pivot = pd.pivot_table(df, index=index_list,values='Sales',dropna=False,fill_value=0., aggfunc=[np.median,np.mean,np.std])"
   ]
  },
  {
   "cell_type": "code",
   "execution_count": 57,
   "metadata": {
    "collapsed": false
   },
   "outputs": [],
   "source": [
    "aggregated = df.groupby(index_list)['Sales'].agg([np.median,np.mean,np.std]).reset_index()"
   ]
  },
  {
   "cell_type": "code",
   "execution_count": 58,
   "metadata": {
    "collapsed": false
   },
   "outputs": [
    {
     "data": {
      "text/html": [
       "<div>\n",
       "<table border=\"1\" class=\"dataframe\">\n",
       "  <thead>\n",
       "    <tr style=\"text-align: right;\">\n",
       "      <th></th>\n",
       "      <th>Store</th>\n",
       "      <th>Open</th>\n",
       "      <th>Promo</th>\n",
       "      <th>StateHoliday</th>\n",
       "      <th>SchoolHoliday</th>\n",
       "      <th>DayOfWeek</th>\n",
       "      <th>median</th>\n",
       "      <th>mean</th>\n",
       "      <th>std</th>\n",
       "    </tr>\n",
       "  </thead>\n",
       "  <tbody>\n",
       "    <tr>\n",
       "      <th>0</th>\n",
       "      <td>1</td>\n",
       "      <td>0</td>\n",
       "      <td>0</td>\n",
       "      <td>0</td>\n",
       "      <td>0</td>\n",
       "      <td>7</td>\n",
       "      <td>0</td>\n",
       "      <td>0</td>\n",
       "      <td>0</td>\n",
       "    </tr>\n",
       "    <tr>\n",
       "      <th>1</th>\n",
       "      <td>1</td>\n",
       "      <td>0</td>\n",
       "      <td>0</td>\n",
       "      <td>0</td>\n",
       "      <td>1</td>\n",
       "      <td>7</td>\n",
       "      <td>0</td>\n",
       "      <td>0</td>\n",
       "      <td>0</td>\n",
       "    </tr>\n",
       "    <tr>\n",
       "      <th>2</th>\n",
       "      <td>1</td>\n",
       "      <td>0</td>\n",
       "      <td>0</td>\n",
       "      <td>a</td>\n",
       "      <td>0</td>\n",
       "      <td>1</td>\n",
       "      <td>0</td>\n",
       "      <td>0</td>\n",
       "      <td>0</td>\n",
       "    </tr>\n",
       "    <tr>\n",
       "      <th>3</th>\n",
       "      <td>1</td>\n",
       "      <td>0</td>\n",
       "      <td>0</td>\n",
       "      <td>a</td>\n",
       "      <td>0</td>\n",
       "      <td>4</td>\n",
       "      <td>0</td>\n",
       "      <td>0</td>\n",
       "      <td>0</td>\n",
       "    </tr>\n",
       "    <tr>\n",
       "      <th>4</th>\n",
       "      <td>1</td>\n",
       "      <td>0</td>\n",
       "      <td>0</td>\n",
       "      <td>a</td>\n",
       "      <td>1</td>\n",
       "      <td>2</td>\n",
       "      <td>0</td>\n",
       "      <td>0</td>\n",
       "      <td>NaN</td>\n",
       "    </tr>\n",
       "  </tbody>\n",
       "</table>\n",
       "</div>"
      ],
      "text/plain": [
       "   Store  Open  Promo StateHoliday  SchoolHoliday  DayOfWeek  median  mean  \\\n",
       "0      1     0      0            0              0          7       0     0   \n",
       "1      1     0      0            0              1          7       0     0   \n",
       "2      1     0      0            a              0          1       0     0   \n",
       "3      1     0      0            a              0          4       0     0   \n",
       "4      1     0      0            a              1          2       0     0   \n",
       "\n",
       "   std  \n",
       "0    0  \n",
       "1    0  \n",
       "2    0  \n",
       "3    0  \n",
       "4  NaN  "
      ]
     },
     "execution_count": 58,
     "metadata": {},
     "output_type": "execute_result"
    }
   ],
   "source": [
    "aggregated.head()"
   ]
  },
  {
   "cell_type": "code",
   "execution_count": 63,
   "metadata": {
    "collapsed": false
   },
   "outputs": [],
   "source": [
    "test_new = pd.merge(test, aggregated, how='left',on=index_list)"
   ]
  },
  {
   "cell_type": "code",
   "execution_count": 64,
   "metadata": {
    "collapsed": false
   },
   "outputs": [
    {
     "data": {
      "text/html": [
       "<div>\n",
       "<table border=\"1\" class=\"dataframe\">\n",
       "  <thead>\n",
       "    <tr style=\"text-align: right;\">\n",
       "      <th></th>\n",
       "      <th>Id</th>\n",
       "      <th>Store</th>\n",
       "      <th>DayOfWeek</th>\n",
       "      <th>Date</th>\n",
       "      <th>Open</th>\n",
       "      <th>Promo</th>\n",
       "      <th>StateHoliday</th>\n",
       "      <th>SchoolHoliday</th>\n",
       "      <th>median</th>\n",
       "      <th>mean</th>\n",
       "      <th>std</th>\n",
       "    </tr>\n",
       "  </thead>\n",
       "  <tbody>\n",
       "    <tr>\n",
       "      <th>0</th>\n",
       "      <td>1</td>\n",
       "      <td>1</td>\n",
       "      <td>4</td>\n",
       "      <td>2015-09-17</td>\n",
       "      <td>1</td>\n",
       "      <td>1</td>\n",
       "      <td>0</td>\n",
       "      <td>0</td>\n",
       "      <td>4785.0</td>\n",
       "      <td>4971.641509</td>\n",
       "      <td>828.424317</td>\n",
       "    </tr>\n",
       "    <tr>\n",
       "      <th>1</th>\n",
       "      <td>2</td>\n",
       "      <td>3</td>\n",
       "      <td>4</td>\n",
       "      <td>2015-09-17</td>\n",
       "      <td>1</td>\n",
       "      <td>1</td>\n",
       "      <td>0</td>\n",
       "      <td>0</td>\n",
       "      <td>7778.0</td>\n",
       "      <td>7939.648148</td>\n",
       "      <td>979.132349</td>\n",
       "    </tr>\n",
       "    <tr>\n",
       "      <th>2</th>\n",
       "      <td>3</td>\n",
       "      <td>7</td>\n",
       "      <td>4</td>\n",
       "      <td>2015-09-17</td>\n",
       "      <td>1</td>\n",
       "      <td>1</td>\n",
       "      <td>0</td>\n",
       "      <td>0</td>\n",
       "      <td>8692.0</td>\n",
       "      <td>9029.035088</td>\n",
       "      <td>1354.217578</td>\n",
       "    </tr>\n",
       "    <tr>\n",
       "      <th>3</th>\n",
       "      <td>4</td>\n",
       "      <td>8</td>\n",
       "      <td>4</td>\n",
       "      <td>2015-09-17</td>\n",
       "      <td>1</td>\n",
       "      <td>1</td>\n",
       "      <td>0</td>\n",
       "      <td>0</td>\n",
       "      <td>6844.0</td>\n",
       "      <td>7138.736842</td>\n",
       "      <td>926.983039</td>\n",
       "    </tr>\n",
       "    <tr>\n",
       "      <th>4</th>\n",
       "      <td>5</td>\n",
       "      <td>9</td>\n",
       "      <td>4</td>\n",
       "      <td>2015-09-17</td>\n",
       "      <td>1</td>\n",
       "      <td>1</td>\n",
       "      <td>0</td>\n",
       "      <td>0</td>\n",
       "      <td>6579.5</td>\n",
       "      <td>6612.703704</td>\n",
       "      <td>1170.690469</td>\n",
       "    </tr>\n",
       "  </tbody>\n",
       "</table>\n",
       "</div>"
      ],
      "text/plain": [
       "   Id  Store  DayOfWeek        Date  Open  Promo StateHoliday  SchoolHoliday  \\\n",
       "0   1      1          4  2015-09-17     1      1            0              0   \n",
       "1   2      3          4  2015-09-17     1      1            0              0   \n",
       "2   3      7          4  2015-09-17     1      1            0              0   \n",
       "3   4      8          4  2015-09-17     1      1            0              0   \n",
       "4   5      9          4  2015-09-17     1      1            0              0   \n",
       "\n",
       "   median         mean          std  \n",
       "0  4785.0  4971.641509   828.424317  \n",
       "1  7778.0  7939.648148   979.132349  \n",
       "2  8692.0  9029.035088  1354.217578  \n",
       "3  6844.0  7138.736842   926.983039  \n",
       "4  6579.5  6612.703704  1170.690469  "
      ]
     },
     "execution_count": 64,
     "metadata": {},
     "output_type": "execute_result"
    }
   ],
   "source": [
    "test_new.head()"
   ]
  },
  {
   "cell_type": "code",
   "execution_count": 91,
   "metadata": {
    "collapsed": false
   },
   "outputs": [
    {
     "data": {
      "text/html": [
       "<div>\n",
       "<table border=\"1\" class=\"dataframe\">\n",
       "  <thead>\n",
       "    <tr style=\"text-align: right;\">\n",
       "      <th></th>\n",
       "      <th>Id</th>\n",
       "      <th>Store</th>\n",
       "      <th>DayOfWeek</th>\n",
       "      <th>Date</th>\n",
       "      <th>Open</th>\n",
       "      <th>Promo</th>\n",
       "      <th>StateHoliday</th>\n",
       "      <th>SchoolHoliday</th>\n",
       "      <th>median</th>\n",
       "      <th>mean</th>\n",
       "      <th>std</th>\n",
       "      <th>Sales</th>\n",
       "    </tr>\n",
       "  </thead>\n",
       "  <tbody>\n",
       "    <tr>\n",
       "      <th>0</th>\n",
       "      <td>1</td>\n",
       "      <td>1</td>\n",
       "      <td>4</td>\n",
       "      <td>2015-09-17</td>\n",
       "      <td>1</td>\n",
       "      <td>1</td>\n",
       "      <td>0</td>\n",
       "      <td>0</td>\n",
       "      <td>4785.0</td>\n",
       "      <td>4971.641509</td>\n",
       "      <td>828.424317</td>\n",
       "      <td>4785.0</td>\n",
       "    </tr>\n",
       "    <tr>\n",
       "      <th>1</th>\n",
       "      <td>2</td>\n",
       "      <td>3</td>\n",
       "      <td>4</td>\n",
       "      <td>2015-09-17</td>\n",
       "      <td>1</td>\n",
       "      <td>1</td>\n",
       "      <td>0</td>\n",
       "      <td>0</td>\n",
       "      <td>7778.0</td>\n",
       "      <td>7939.648148</td>\n",
       "      <td>979.132349</td>\n",
       "      <td>7778.0</td>\n",
       "    </tr>\n",
       "    <tr>\n",
       "      <th>2</th>\n",
       "      <td>3</td>\n",
       "      <td>7</td>\n",
       "      <td>4</td>\n",
       "      <td>2015-09-17</td>\n",
       "      <td>1</td>\n",
       "      <td>1</td>\n",
       "      <td>0</td>\n",
       "      <td>0</td>\n",
       "      <td>8692.0</td>\n",
       "      <td>9029.035088</td>\n",
       "      <td>1354.217578</td>\n",
       "      <td>8692.0</td>\n",
       "    </tr>\n",
       "    <tr>\n",
       "      <th>3</th>\n",
       "      <td>4</td>\n",
       "      <td>8</td>\n",
       "      <td>4</td>\n",
       "      <td>2015-09-17</td>\n",
       "      <td>1</td>\n",
       "      <td>1</td>\n",
       "      <td>0</td>\n",
       "      <td>0</td>\n",
       "      <td>6844.0</td>\n",
       "      <td>7138.736842</td>\n",
       "      <td>926.983039</td>\n",
       "      <td>6844.0</td>\n",
       "    </tr>\n",
       "    <tr>\n",
       "      <th>4</th>\n",
       "      <td>5</td>\n",
       "      <td>9</td>\n",
       "      <td>4</td>\n",
       "      <td>2015-09-17</td>\n",
       "      <td>1</td>\n",
       "      <td>1</td>\n",
       "      <td>0</td>\n",
       "      <td>0</td>\n",
       "      <td>6579.5</td>\n",
       "      <td>6612.703704</td>\n",
       "      <td>1170.690469</td>\n",
       "      <td>6579.5</td>\n",
       "    </tr>\n",
       "  </tbody>\n",
       "</table>\n",
       "</div>"
      ],
      "text/plain": [
       "   Id  Store  DayOfWeek        Date  Open  Promo StateHoliday  SchoolHoliday  \\\n",
       "0   1      1          4  2015-09-17     1      1            0              0   \n",
       "1   2      3          4  2015-09-17     1      1            0              0   \n",
       "2   3      7          4  2015-09-17     1      1            0              0   \n",
       "3   4      8          4  2015-09-17     1      1            0              0   \n",
       "4   5      9          4  2015-09-17     1      1            0              0   \n",
       "\n",
       "   median         mean          std   Sales  \n",
       "0  4785.0  4971.641509   828.424317  4785.0  \n",
       "1  7778.0  7939.648148   979.132349  7778.0  \n",
       "2  8692.0  9029.035088  1354.217578  8692.0  \n",
       "3  6844.0  7138.736842   926.983039  6844.0  \n",
       "4  6579.5  6612.703704  1170.690469  6579.5  "
      ]
     },
     "execution_count": 91,
     "metadata": {},
     "output_type": "execute_result"
    }
   ],
   "source": [
    "#test['Sales'] = test[['Store','Open']].apply(lambda x: pivot['median'][x.Store] if x.Open==1 else 0, axis=1)\n",
    "test_new['Sales'] = (test_new['median']+test_new['median'])/2\n",
    "test_new.head()"
   ]
  },
  {
   "cell_type": "code",
   "execution_count": 92,
   "metadata": {
    "collapsed": false
   },
   "outputs": [],
   "source": [
    "test_new.Id = test_new.Id.astype(int)"
   ]
  },
  {
   "cell_type": "code",
   "execution_count": 95,
   "metadata": {
    "collapsed": false
   },
   "outputs": [],
   "source": [
    "test_new.Sales = test_new.Sales.fillna(method='pad')"
   ]
  },
  {
   "cell_type": "code",
   "execution_count": 96,
   "metadata": {
    "collapsed": false
   },
   "outputs": [
    {
     "data": {
      "text/plain": [
       "False"
      ]
     },
     "execution_count": 96,
     "metadata": {},
     "output_type": "execute_result"
    }
   ],
   "source": [
    "test_new.Sales.isnull().any()"
   ]
  },
  {
   "cell_type": "code",
   "execution_count": 97,
   "metadata": {
    "collapsed": false
   },
   "outputs": [],
   "source": [
    "test_new[['Id','Sales']].to_csv('median_mean_submission.csv', index=False)"
   ]
  },
  {
   "cell_type": "markdown",
   "metadata": {},
   "source": [
    "## featuers"
   ]
  },
  {
   "cell_type": "code",
   "execution_count": 13,
   "metadata": {
    "collapsed": false
   },
   "outputs": [],
   "source": [
    "store_feature_list = store.columns"
   ]
  },
  {
   "cell_type": "code",
   "execution_count": 14,
   "metadata": {
    "collapsed": true
   },
   "outputs": [],
   "source": [
    "date_feature_list = ['DayOfWeek','Date','Open','Promo','StateHoliday','SchoolHoliday']"
   ]
  },
  {
   "cell_type": "markdown",
   "metadata": {},
   "source": [
    "Store ID is a categorical data column, which contains 1115 different values. If using **Encoding**, we would need 1115 columns of binary values to represent this single column, which makes this data extremly high dimensional. Instead, we consider using the other features of stores as trainging features. "
   ]
  },
  {
   "cell_type": "code",
   "execution_count": 15,
   "metadata": {
    "collapsed": false
   },
   "outputs": [],
   "source": [
    "df['IntDate'] = df.Date.astype(np.int64)"
   ]
  },
  {
   "cell_type": "code",
   "execution_count": 16,
   "metadata": {
    "collapsed": false
   },
   "outputs": [
    {
     "data": {
      "text/plain": [
       "Index([u'Store', u'StoreType', u'Assortment', u'CompetitionDistance',\n",
       "       u'CompetitionOpenSinceMonth', u'CompetitionOpenSinceYear', u'Promo2',\n",
       "       u'Promo2SinceWeek', u'Promo2SinceYear', u'PromoInterval'],\n",
       "      dtype='object')"
      ]
     },
     "execution_count": 16,
     "metadata": {},
     "output_type": "execute_result"
    }
   ],
   "source": [
    "store_feature_list"
   ]
  },
  {
   "cell_type": "code",
   "execution_count": 17,
   "metadata": {
    "collapsed": false
   },
   "outputs": [],
   "source": [
    "feature_list = list(set(store_feature_list)-set(['Store'])|set(date_feature_list)-set(['Date'])|set(['IntDate']))"
   ]
  },
  {
   "cell_type": "code",
   "execution_count": 18,
   "metadata": {
    "collapsed": false
   },
   "outputs": [
    {
     "data": {
      "text/plain": [
       "['DayOfWeek',\n",
       " 'CompetitionOpenSinceMonth',\n",
       " 'StateHoliday',\n",
       " 'Promo',\n",
       " 'Promo2SinceYear',\n",
       " 'Promo2SinceWeek',\n",
       " 'CompetitionDistance',\n",
       " 'PromoInterval',\n",
       " 'IntDate',\n",
       " 'Promo2',\n",
       " 'CompetitionOpenSinceYear',\n",
       " 'StoreType',\n",
       " 'Assortment',\n",
       " 'Open',\n",
       " 'SchoolHoliday']"
      ]
     },
     "execution_count": 18,
     "metadata": {},
     "output_type": "execute_result"
    }
   ],
   "source": [
    "feature_list"
   ]
  },
  {
   "cell_type": "code",
   "execution_count": 111,
   "metadata": {
    "collapsed": false
   },
   "outputs": [
    {
     "data": {
      "text/html": [
       "<div>\n",
       "<table border=\"1\" class=\"dataframe\">\n",
       "  <thead>\n",
       "    <tr style=\"text-align: right;\">\n",
       "      <th></th>\n",
       "      <th>DayOfWeek</th>\n",
       "      <th>CompetitionOpenSinceMonth</th>\n",
       "      <th>StateHoliday</th>\n",
       "      <th>Promo</th>\n",
       "      <th>Promo2SinceYear</th>\n",
       "      <th>Promo2SinceWeek</th>\n",
       "      <th>CompetitionDistance</th>\n",
       "      <th>PromoInterval</th>\n",
       "      <th>IntDate</th>\n",
       "      <th>Promo2</th>\n",
       "      <th>CompetitionOpenSinceYear</th>\n",
       "      <th>StoreType</th>\n",
       "      <th>Assortment</th>\n",
       "      <th>Open</th>\n",
       "      <th>SchoolHoliday</th>\n",
       "    </tr>\n",
       "  </thead>\n",
       "  <tbody>\n",
       "    <tr>\n",
       "      <th>0</th>\n",
       "      <td>5</td>\n",
       "      <td>9</td>\n",
       "      <td>0</td>\n",
       "      <td>1</td>\n",
       "      <td>NaN</td>\n",
       "      <td>NaN</td>\n",
       "      <td>1270</td>\n",
       "      <td>NaN</td>\n",
       "      <td>1438300800000000000</td>\n",
       "      <td>0</td>\n",
       "      <td>2008</td>\n",
       "      <td>c</td>\n",
       "      <td>a</td>\n",
       "      <td>1</td>\n",
       "      <td>1</td>\n",
       "    </tr>\n",
       "    <tr>\n",
       "      <th>1</th>\n",
       "      <td>4</td>\n",
       "      <td>9</td>\n",
       "      <td>0</td>\n",
       "      <td>1</td>\n",
       "      <td>NaN</td>\n",
       "      <td>NaN</td>\n",
       "      <td>1270</td>\n",
       "      <td>NaN</td>\n",
       "      <td>1438214400000000000</td>\n",
       "      <td>0</td>\n",
       "      <td>2008</td>\n",
       "      <td>c</td>\n",
       "      <td>a</td>\n",
       "      <td>1</td>\n",
       "      <td>1</td>\n",
       "    </tr>\n",
       "    <tr>\n",
       "      <th>2</th>\n",
       "      <td>3</td>\n",
       "      <td>9</td>\n",
       "      <td>0</td>\n",
       "      <td>1</td>\n",
       "      <td>NaN</td>\n",
       "      <td>NaN</td>\n",
       "      <td>1270</td>\n",
       "      <td>NaN</td>\n",
       "      <td>1438128000000000000</td>\n",
       "      <td>0</td>\n",
       "      <td>2008</td>\n",
       "      <td>c</td>\n",
       "      <td>a</td>\n",
       "      <td>1</td>\n",
       "      <td>1</td>\n",
       "    </tr>\n",
       "    <tr>\n",
       "      <th>3</th>\n",
       "      <td>2</td>\n",
       "      <td>9</td>\n",
       "      <td>0</td>\n",
       "      <td>1</td>\n",
       "      <td>NaN</td>\n",
       "      <td>NaN</td>\n",
       "      <td>1270</td>\n",
       "      <td>NaN</td>\n",
       "      <td>1438041600000000000</td>\n",
       "      <td>0</td>\n",
       "      <td>2008</td>\n",
       "      <td>c</td>\n",
       "      <td>a</td>\n",
       "      <td>1</td>\n",
       "      <td>1</td>\n",
       "    </tr>\n",
       "    <tr>\n",
       "      <th>4</th>\n",
       "      <td>1</td>\n",
       "      <td>9</td>\n",
       "      <td>0</td>\n",
       "      <td>1</td>\n",
       "      <td>NaN</td>\n",
       "      <td>NaN</td>\n",
       "      <td>1270</td>\n",
       "      <td>NaN</td>\n",
       "      <td>1437955200000000000</td>\n",
       "      <td>0</td>\n",
       "      <td>2008</td>\n",
       "      <td>c</td>\n",
       "      <td>a</td>\n",
       "      <td>1</td>\n",
       "      <td>1</td>\n",
       "    </tr>\n",
       "  </tbody>\n",
       "</table>\n",
       "</div>"
      ],
      "text/plain": [
       "   DayOfWeek  CompetitionOpenSinceMonth StateHoliday  Promo  Promo2SinceYear  \\\n",
       "0          5                          9            0      1              NaN   \n",
       "1          4                          9            0      1              NaN   \n",
       "2          3                          9            0      1              NaN   \n",
       "3          2                          9            0      1              NaN   \n",
       "4          1                          9            0      1              NaN   \n",
       "\n",
       "   Promo2SinceWeek  CompetitionDistance PromoInterval              IntDate  \\\n",
       "0              NaN                 1270           NaN  1438300800000000000   \n",
       "1              NaN                 1270           NaN  1438214400000000000   \n",
       "2              NaN                 1270           NaN  1438128000000000000   \n",
       "3              NaN                 1270           NaN  1438041600000000000   \n",
       "4              NaN                 1270           NaN  1437955200000000000   \n",
       "\n",
       "   Promo2  CompetitionOpenSinceYear StoreType Assortment  Open  SchoolHoliday  \n",
       "0       0                      2008         c          a     1              1  \n",
       "1       0                      2008         c          a     1              1  \n",
       "2       0                      2008         c          a     1              1  \n",
       "3       0                      2008         c          a     1              1  \n",
       "4       0                      2008         c          a     1              1  "
      ]
     },
     "execution_count": 111,
     "metadata": {},
     "output_type": "execute_result"
    }
   ],
   "source": [
    "df[feature_list].head()"
   ]
  },
  {
   "cell_type": "code",
   "execution_count": 19,
   "metadata": {
    "collapsed": false
   },
   "outputs": [],
   "source": [
    "df['CompDate'] = df[['CompetitionOpenSinceYear','CompetitionOpenSinceMonth','IntDate']].apply(\n",
    "    lambda row: pd.to_datetime(int(row.CompetitionOpenSinceYear*100+row.CompetitionOpenSinceMonth)\n",
    "                               ,format='%Y%m') if not np.isnan(row.CompetitionOpenSinceYear) \n",
    "    else np.nan, axis=1)\n",
    "                          "
   ]
  },
  {
   "cell_type": "code",
   "execution_count": 188,
   "metadata": {
    "collapsed": false
   },
   "outputs": [
    {
     "data": {
      "text/plain": [
       "False"
      ]
     },
     "execution_count": 188,
     "metadata": {},
     "output_type": "execute_result"
    }
   ],
   "source": [
    "pd.isnull(df['Date'][10362])"
   ]
  },
  {
   "cell_type": "code",
   "execution_count": 20,
   "metadata": {
    "collapsed": false
   },
   "outputs": [],
   "source": [
    "df['DaysSinceCompetition'] = df[['Date','CompDate']].apply(lambda x: (x.Date-x.CompDate).days if \n",
    "                                                           not pd.isnull(x.CompDate) else np.nan, axis=1)"
   ]
  },
  {
   "cell_type": "code",
   "execution_count": 110,
   "metadata": {
    "collapsed": false
   },
   "outputs": [],
   "source": [
    "df['DayOfYear'] = df.Date.apply(lambda x: x.dayofyear)"
   ]
  },
  {
   "cell_type": "code",
   "execution_count": 21,
   "metadata": {
    "collapsed": false
   },
   "outputs": [],
   "source": [
    "date_feature_list = list(set(date_feature_list)-set(['Date'])|set(['IntDate','DaysSinceCompetition']))"
   ]
  },
  {
   "cell_type": "code",
   "execution_count": 22,
   "metadata": {
    "collapsed": false
   },
   "outputs": [],
   "source": [
    "store_feature_list = list(set(store_feature_list)-set(['CompetitionOpenSinceMonth','CompetitionOpenSinceYear','Promo2SinceWeek','Promo2SinceYear','PromoInterval']))"
   ]
  },
  {
   "cell_type": "code",
   "execution_count": 23,
   "metadata": {
    "collapsed": false
   },
   "outputs": [
    {
     "data": {
      "text/html": [
       "<div>\n",
       "<table border=\"1\" class=\"dataframe\">\n",
       "  <thead>\n",
       "    <tr style=\"text-align: right;\">\n",
       "      <th></th>\n",
       "      <th>DayOfWeek</th>\n",
       "      <th>IntDate</th>\n",
       "      <th>StateHoliday</th>\n",
       "      <th>Promo</th>\n",
       "      <th>DaysSinceCompetition</th>\n",
       "      <th>Open</th>\n",
       "      <th>SchoolHoliday</th>\n",
       "      <th>Assortment</th>\n",
       "      <th>CompetitionDistance</th>\n",
       "      <th>Promo2</th>\n",
       "      <th>StoreType</th>\n",
       "      <th>Store</th>\n",
       "    </tr>\n",
       "  </thead>\n",
       "  <tbody>\n",
       "    <tr>\n",
       "      <th>0</th>\n",
       "      <td>5</td>\n",
       "      <td>1438300800000000000</td>\n",
       "      <td>0</td>\n",
       "      <td>1</td>\n",
       "      <td>2524</td>\n",
       "      <td>1</td>\n",
       "      <td>1</td>\n",
       "      <td>a</td>\n",
       "      <td>1270</td>\n",
       "      <td>0</td>\n",
       "      <td>c</td>\n",
       "      <td>1</td>\n",
       "    </tr>\n",
       "    <tr>\n",
       "      <th>1</th>\n",
       "      <td>4</td>\n",
       "      <td>1438214400000000000</td>\n",
       "      <td>0</td>\n",
       "      <td>1</td>\n",
       "      <td>2523</td>\n",
       "      <td>1</td>\n",
       "      <td>1</td>\n",
       "      <td>a</td>\n",
       "      <td>1270</td>\n",
       "      <td>0</td>\n",
       "      <td>c</td>\n",
       "      <td>1</td>\n",
       "    </tr>\n",
       "    <tr>\n",
       "      <th>2</th>\n",
       "      <td>3</td>\n",
       "      <td>1438128000000000000</td>\n",
       "      <td>0</td>\n",
       "      <td>1</td>\n",
       "      <td>2522</td>\n",
       "      <td>1</td>\n",
       "      <td>1</td>\n",
       "      <td>a</td>\n",
       "      <td>1270</td>\n",
       "      <td>0</td>\n",
       "      <td>c</td>\n",
       "      <td>1</td>\n",
       "    </tr>\n",
       "    <tr>\n",
       "      <th>3</th>\n",
       "      <td>2</td>\n",
       "      <td>1438041600000000000</td>\n",
       "      <td>0</td>\n",
       "      <td>1</td>\n",
       "      <td>2521</td>\n",
       "      <td>1</td>\n",
       "      <td>1</td>\n",
       "      <td>a</td>\n",
       "      <td>1270</td>\n",
       "      <td>0</td>\n",
       "      <td>c</td>\n",
       "      <td>1</td>\n",
       "    </tr>\n",
       "    <tr>\n",
       "      <th>4</th>\n",
       "      <td>1</td>\n",
       "      <td>1437955200000000000</td>\n",
       "      <td>0</td>\n",
       "      <td>1</td>\n",
       "      <td>2520</td>\n",
       "      <td>1</td>\n",
       "      <td>1</td>\n",
       "      <td>a</td>\n",
       "      <td>1270</td>\n",
       "      <td>0</td>\n",
       "      <td>c</td>\n",
       "      <td>1</td>\n",
       "    </tr>\n",
       "  </tbody>\n",
       "</table>\n",
       "</div>"
      ],
      "text/plain": [
       "   DayOfWeek              IntDate StateHoliday  Promo  DaysSinceCompetition  \\\n",
       "0          5  1438300800000000000            0      1                  2524   \n",
       "1          4  1438214400000000000            0      1                  2523   \n",
       "2          3  1438128000000000000            0      1                  2522   \n",
       "3          2  1438041600000000000            0      1                  2521   \n",
       "4          1  1437955200000000000            0      1                  2520   \n",
       "\n",
       "   Open  SchoolHoliday Assortment  CompetitionDistance  Promo2 StoreType  \\\n",
       "0     1              1          a                 1270       0         c   \n",
       "1     1              1          a                 1270       0         c   \n",
       "2     1              1          a                 1270       0         c   \n",
       "3     1              1          a                 1270       0         c   \n",
       "4     1              1          a                 1270       0         c   \n",
       "\n",
       "   Store  \n",
       "0      1  \n",
       "1      1  \n",
       "2      1  \n",
       "3      1  \n",
       "4      1  "
      ]
     },
     "execution_count": 23,
     "metadata": {},
     "output_type": "execute_result"
    }
   ],
   "source": [
    "df[date_feature_list+store_feature_list].head()"
   ]
  },
  {
   "cell_type": "code",
   "execution_count": 24,
   "metadata": {
    "collapsed": false
   },
   "outputs": [],
   "source": [
    "feature_list = date_feature_list+store_feature_list"
   ]
  },
  {
   "cell_type": "code",
   "execution_count": 25,
   "metadata": {
    "collapsed": false
   },
   "outputs": [
    {
     "data": {
      "text/html": [
       "<div>\n",
       "<table border=\"1\" class=\"dataframe\">\n",
       "  <thead>\n",
       "    <tr style=\"text-align: right;\">\n",
       "      <th></th>\n",
       "      <th>DayOfWeek</th>\n",
       "      <th>IntDate</th>\n",
       "      <th>StateHoliday</th>\n",
       "      <th>Promo</th>\n",
       "      <th>DaysSinceCompetition</th>\n",
       "      <th>Open</th>\n",
       "      <th>SchoolHoliday</th>\n",
       "      <th>Assortment</th>\n",
       "      <th>CompetitionDistance</th>\n",
       "      <th>Promo2</th>\n",
       "      <th>StoreType</th>\n",
       "      <th>Store</th>\n",
       "    </tr>\n",
       "  </thead>\n",
       "  <tbody>\n",
       "    <tr>\n",
       "      <th>0</th>\n",
       "      <td>5</td>\n",
       "      <td>1438300800000000000</td>\n",
       "      <td>0</td>\n",
       "      <td>1</td>\n",
       "      <td>2524</td>\n",
       "      <td>1</td>\n",
       "      <td>1</td>\n",
       "      <td>a</td>\n",
       "      <td>1270</td>\n",
       "      <td>0</td>\n",
       "      <td>c</td>\n",
       "      <td>1</td>\n",
       "    </tr>\n",
       "    <tr>\n",
       "      <th>1</th>\n",
       "      <td>4</td>\n",
       "      <td>1438214400000000000</td>\n",
       "      <td>0</td>\n",
       "      <td>1</td>\n",
       "      <td>2523</td>\n",
       "      <td>1</td>\n",
       "      <td>1</td>\n",
       "      <td>a</td>\n",
       "      <td>1270</td>\n",
       "      <td>0</td>\n",
       "      <td>c</td>\n",
       "      <td>1</td>\n",
       "    </tr>\n",
       "    <tr>\n",
       "      <th>2</th>\n",
       "      <td>3</td>\n",
       "      <td>1438128000000000000</td>\n",
       "      <td>0</td>\n",
       "      <td>1</td>\n",
       "      <td>2522</td>\n",
       "      <td>1</td>\n",
       "      <td>1</td>\n",
       "      <td>a</td>\n",
       "      <td>1270</td>\n",
       "      <td>0</td>\n",
       "      <td>c</td>\n",
       "      <td>1</td>\n",
       "    </tr>\n",
       "    <tr>\n",
       "      <th>3</th>\n",
       "      <td>2</td>\n",
       "      <td>1438041600000000000</td>\n",
       "      <td>0</td>\n",
       "      <td>1</td>\n",
       "      <td>2521</td>\n",
       "      <td>1</td>\n",
       "      <td>1</td>\n",
       "      <td>a</td>\n",
       "      <td>1270</td>\n",
       "      <td>0</td>\n",
       "      <td>c</td>\n",
       "      <td>1</td>\n",
       "    </tr>\n",
       "    <tr>\n",
       "      <th>4</th>\n",
       "      <td>1</td>\n",
       "      <td>1437955200000000000</td>\n",
       "      <td>0</td>\n",
       "      <td>1</td>\n",
       "      <td>2520</td>\n",
       "      <td>1</td>\n",
       "      <td>1</td>\n",
       "      <td>a</td>\n",
       "      <td>1270</td>\n",
       "      <td>0</td>\n",
       "      <td>c</td>\n",
       "      <td>1</td>\n",
       "    </tr>\n",
       "  </tbody>\n",
       "</table>\n",
       "</div>"
      ],
      "text/plain": [
       "   DayOfWeek              IntDate StateHoliday  Promo  DaysSinceCompetition  \\\n",
       "0          5  1438300800000000000            0      1                  2524   \n",
       "1          4  1438214400000000000            0      1                  2523   \n",
       "2          3  1438128000000000000            0      1                  2522   \n",
       "3          2  1438041600000000000            0      1                  2521   \n",
       "4          1  1437955200000000000            0      1                  2520   \n",
       "\n",
       "   Open  SchoolHoliday Assortment  CompetitionDistance  Promo2 StoreType  \\\n",
       "0     1              1          a                 1270       0         c   \n",
       "1     1              1          a                 1270       0         c   \n",
       "2     1              1          a                 1270       0         c   \n",
       "3     1              1          a                 1270       0         c   \n",
       "4     1              1          a                 1270       0         c   \n",
       "\n",
       "   Store  \n",
       "0      1  \n",
       "1      1  \n",
       "2      1  \n",
       "3      1  \n",
       "4      1  "
      ]
     },
     "execution_count": 25,
     "metadata": {},
     "output_type": "execute_result"
    }
   ],
   "source": [
    "X = df[feature_list]\n",
    "X.head()"
   ]
  },
  {
   "cell_type": "code",
   "execution_count": 26,
   "metadata": {
    "collapsed": true
   },
   "outputs": [],
   "source": [
    "from sklearn.preprocessing import OneHotEncoder, LabelEncoder, StandardScaler"
   ]
  },
  {
   "cell_type": "code",
   "execution_count": 45,
   "metadata": {
    "collapsed": false
   },
   "outputs": [
    {
     "data": {
      "text/plain": [
       "DayOfWeek                object\n",
       "IntDate                   int64\n",
       "StateHoliday             object\n",
       "Promo                     int64\n",
       "DaysSinceCompetition    float64\n",
       "Open                      int64\n",
       "SchoolHoliday             int64\n",
       "Assortment               object\n",
       "CompetitionDistance     float64\n",
       "Promo2                    int64\n",
       "StoreType                object\n",
       "Store                     int64\n",
       "dtype: object"
      ]
     },
     "execution_count": 45,
     "metadata": {},
     "output_type": "execute_result"
    }
   ],
   "source": [
    "X.dtypes\n",
    "X.DayOfWeek = X.DayOfWeek.astype(object)"
   ]
  },
  {
   "cell_type": "code",
   "execution_count": 44,
   "metadata": {
    "collapsed": false
   },
   "outputs": [],
   "source": [
    "cat_columns = ['DayOfWeek','StateHoliday','Assortment','StoreType']"
   ]
  },
  {
   "cell_type": "code",
   "execution_count": 158,
   "metadata": {
    "collapsed": false
   },
   "outputs": [],
   "source": [
    "from sklearn import base\n",
    "\n",
    "###This transformer is for converting categorical data to numerical data \n",
    "class CatIntTrans(base.BaseEstimator, base.TransformerMixin):\n",
    "    \n",
    "    def __init__(self):\n",
    "        self.catcols = {}\n",
    "        #self.column_list = c\n",
    "    \n",
    "    def fit(self, X, y=None):\n",
    "    # fit the transformation ...\n",
    "        for col in X.columns.values:\n",
    "            if X[col].dtype==object:\n",
    "                le = LabelEncoder()\n",
    "                encoder = OneHotEncoder()\n",
    "                X_new = le.fit_transform(X[col])\n",
    "                encoder.fit(X_new[:, np.newaxis])\n",
    "                self.catcols[col] = [le, encoder]\n",
    "        return self    \n",
    "    \n",
    "    def transform(self, X):\n",
    "        X_trans = X.copy()\n",
    "        new_columns = list(set(X.columns.values)-set(self.catcols.keys()))\n",
    "        for col in self.catcols:\n",
    "            X_trans = pd.concat([X_trans, pd.DataFrame(self.catcols[col][1].transform(self.catcols[col][0].transform(X_trans[col])[:, np.newaxis]).todense(), columns=[col+'_'+name for name in self.catcols[col][0].classes_])], axis=1)\n",
    "            new_columns += [col+'_'+str(name) for name in self.catcols[col][0].classes_]\n",
    "        return X_trans[new_columns]\n"
   ]
  },
  {
   "cell_type": "code",
   "execution_count": 49,
   "metadata": {
    "collapsed": false
   },
   "outputs": [],
   "source": [
    "cat_int_trans = CatIntTrans()\n",
    "X_clean = cat_int_trans.fit_transform(X)"
   ]
  },
  {
   "cell_type": "code",
   "execution_count": 50,
   "metadata": {
    "collapsed": false
   },
   "outputs": [
    {
     "data": {
      "text/html": [
       "<div>\n",
       "<table border=\"1\" class=\"dataframe\">\n",
       "  <thead>\n",
       "    <tr style=\"text-align: right;\">\n",
       "      <th></th>\n",
       "      <th>Promo</th>\n",
       "      <th>DaysSinceCompetition</th>\n",
       "      <th>CompetitionDistance</th>\n",
       "      <th>Promo2</th>\n",
       "      <th>IntDate</th>\n",
       "      <th>Open</th>\n",
       "      <th>SchoolHoliday</th>\n",
       "      <th>Store</th>\n",
       "      <th>DayOfWeek_1</th>\n",
       "      <th>DayOfWeek_2</th>\n",
       "      <th>...</th>\n",
       "      <th>Assortment_b</th>\n",
       "      <th>Assortment_c</th>\n",
       "      <th>StoreType_a</th>\n",
       "      <th>StoreType_b</th>\n",
       "      <th>StoreType_c</th>\n",
       "      <th>StoreType_d</th>\n",
       "      <th>StateHoliday_0</th>\n",
       "      <th>StateHoliday_a</th>\n",
       "      <th>StateHoliday_b</th>\n",
       "      <th>StateHoliday_c</th>\n",
       "    </tr>\n",
       "  </thead>\n",
       "  <tbody>\n",
       "    <tr>\n",
       "      <th>0</th>\n",
       "      <td>1</td>\n",
       "      <td>2524</td>\n",
       "      <td>1270</td>\n",
       "      <td>0</td>\n",
       "      <td>1438300800000000000</td>\n",
       "      <td>1</td>\n",
       "      <td>1</td>\n",
       "      <td>1</td>\n",
       "      <td>0</td>\n",
       "      <td>0</td>\n",
       "      <td>...</td>\n",
       "      <td>0</td>\n",
       "      <td>0</td>\n",
       "      <td>0</td>\n",
       "      <td>0</td>\n",
       "      <td>1</td>\n",
       "      <td>0</td>\n",
       "      <td>1</td>\n",
       "      <td>0</td>\n",
       "      <td>0</td>\n",
       "      <td>0</td>\n",
       "    </tr>\n",
       "    <tr>\n",
       "      <th>1</th>\n",
       "      <td>1</td>\n",
       "      <td>2523</td>\n",
       "      <td>1270</td>\n",
       "      <td>0</td>\n",
       "      <td>1438214400000000000</td>\n",
       "      <td>1</td>\n",
       "      <td>1</td>\n",
       "      <td>1</td>\n",
       "      <td>0</td>\n",
       "      <td>0</td>\n",
       "      <td>...</td>\n",
       "      <td>0</td>\n",
       "      <td>0</td>\n",
       "      <td>0</td>\n",
       "      <td>0</td>\n",
       "      <td>1</td>\n",
       "      <td>0</td>\n",
       "      <td>1</td>\n",
       "      <td>0</td>\n",
       "      <td>0</td>\n",
       "      <td>0</td>\n",
       "    </tr>\n",
       "    <tr>\n",
       "      <th>2</th>\n",
       "      <td>1</td>\n",
       "      <td>2522</td>\n",
       "      <td>1270</td>\n",
       "      <td>0</td>\n",
       "      <td>1438128000000000000</td>\n",
       "      <td>1</td>\n",
       "      <td>1</td>\n",
       "      <td>1</td>\n",
       "      <td>0</td>\n",
       "      <td>0</td>\n",
       "      <td>...</td>\n",
       "      <td>0</td>\n",
       "      <td>0</td>\n",
       "      <td>0</td>\n",
       "      <td>0</td>\n",
       "      <td>1</td>\n",
       "      <td>0</td>\n",
       "      <td>1</td>\n",
       "      <td>0</td>\n",
       "      <td>0</td>\n",
       "      <td>0</td>\n",
       "    </tr>\n",
       "    <tr>\n",
       "      <th>3</th>\n",
       "      <td>1</td>\n",
       "      <td>2521</td>\n",
       "      <td>1270</td>\n",
       "      <td>0</td>\n",
       "      <td>1438041600000000000</td>\n",
       "      <td>1</td>\n",
       "      <td>1</td>\n",
       "      <td>1</td>\n",
       "      <td>0</td>\n",
       "      <td>1</td>\n",
       "      <td>...</td>\n",
       "      <td>0</td>\n",
       "      <td>0</td>\n",
       "      <td>0</td>\n",
       "      <td>0</td>\n",
       "      <td>1</td>\n",
       "      <td>0</td>\n",
       "      <td>1</td>\n",
       "      <td>0</td>\n",
       "      <td>0</td>\n",
       "      <td>0</td>\n",
       "    </tr>\n",
       "    <tr>\n",
       "      <th>4</th>\n",
       "      <td>1</td>\n",
       "      <td>2520</td>\n",
       "      <td>1270</td>\n",
       "      <td>0</td>\n",
       "      <td>1437955200000000000</td>\n",
       "      <td>1</td>\n",
       "      <td>1</td>\n",
       "      <td>1</td>\n",
       "      <td>1</td>\n",
       "      <td>0</td>\n",
       "      <td>...</td>\n",
       "      <td>0</td>\n",
       "      <td>0</td>\n",
       "      <td>0</td>\n",
       "      <td>0</td>\n",
       "      <td>1</td>\n",
       "      <td>0</td>\n",
       "      <td>1</td>\n",
       "      <td>0</td>\n",
       "      <td>0</td>\n",
       "      <td>0</td>\n",
       "    </tr>\n",
       "  </tbody>\n",
       "</table>\n",
       "<p>5 rows × 26 columns</p>\n",
       "</div>"
      ],
      "text/plain": [
       "   Promo  DaysSinceCompetition  CompetitionDistance  Promo2  \\\n",
       "0      1                  2524                 1270       0   \n",
       "1      1                  2523                 1270       0   \n",
       "2      1                  2522                 1270       0   \n",
       "3      1                  2521                 1270       0   \n",
       "4      1                  2520                 1270       0   \n",
       "\n",
       "               IntDate  Open  SchoolHoliday  Store  DayOfWeek_1  DayOfWeek_2  \\\n",
       "0  1438300800000000000     1              1      1            0            0   \n",
       "1  1438214400000000000     1              1      1            0            0   \n",
       "2  1438128000000000000     1              1      1            0            0   \n",
       "3  1438041600000000000     1              1      1            0            1   \n",
       "4  1437955200000000000     1              1      1            1            0   \n",
       "\n",
       "        ...        Assortment_b  Assortment_c  StoreType_a  StoreType_b  \\\n",
       "0       ...                   0             0            0            0   \n",
       "1       ...                   0             0            0            0   \n",
       "2       ...                   0             0            0            0   \n",
       "3       ...                   0             0            0            0   \n",
       "4       ...                   0             0            0            0   \n",
       "\n",
       "   StoreType_c  StoreType_d  StateHoliday_0  StateHoliday_a  StateHoliday_b  \\\n",
       "0            1            0               1               0               0   \n",
       "1            1            0               1               0               0   \n",
       "2            1            0               1               0               0   \n",
       "3            1            0               1               0               0   \n",
       "4            1            0               1               0               0   \n",
       "\n",
       "   StateHoliday_c  \n",
       "0               0  \n",
       "1               0  \n",
       "2               0  \n",
       "3               0  \n",
       "4               0  \n",
       "\n",
       "[5 rows x 26 columns]"
      ]
     },
     "execution_count": 50,
     "metadata": {},
     "output_type": "execute_result"
    }
   ],
   "source": [
    "X_clean.head()"
   ]
  },
  {
   "cell_type": "code",
   "execution_count": 51,
   "metadata": {
    "collapsed": false
   },
   "outputs": [
    {
     "data": {
      "text/html": [
       "<div>\n",
       "<table border=\"1\" class=\"dataframe\">\n",
       "  <thead>\n",
       "    <tr style=\"text-align: right;\">\n",
       "      <th></th>\n",
       "      <th>Promo</th>\n",
       "      <th>DaysSinceCompetition</th>\n",
       "      <th>CompetitionDistance</th>\n",
       "      <th>Promo2</th>\n",
       "      <th>IntDate</th>\n",
       "      <th>Open</th>\n",
       "      <th>SchoolHoliday</th>\n",
       "      <th>Store</th>\n",
       "      <th>DayOfWeek_1</th>\n",
       "      <th>DayOfWeek_2</th>\n",
       "      <th>...</th>\n",
       "      <th>Assortment_b</th>\n",
       "      <th>Assortment_c</th>\n",
       "      <th>StoreType_a</th>\n",
       "      <th>StoreType_b</th>\n",
       "      <th>StoreType_c</th>\n",
       "      <th>StoreType_d</th>\n",
       "      <th>StateHoliday_0</th>\n",
       "      <th>StateHoliday_a</th>\n",
       "      <th>StateHoliday_b</th>\n",
       "      <th>StateHoliday_c</th>\n",
       "    </tr>\n",
       "  </thead>\n",
       "  <tbody>\n",
       "    <tr>\n",
       "      <th>0</th>\n",
       "      <td>1</td>\n",
       "      <td>2524</td>\n",
       "      <td>1270</td>\n",
       "      <td>0</td>\n",
       "      <td>1438300800000000000</td>\n",
       "      <td>1</td>\n",
       "      <td>1</td>\n",
       "      <td>1</td>\n",
       "      <td>0</td>\n",
       "      <td>0</td>\n",
       "      <td>...</td>\n",
       "      <td>0</td>\n",
       "      <td>0</td>\n",
       "      <td>0</td>\n",
       "      <td>0</td>\n",
       "      <td>1</td>\n",
       "      <td>0</td>\n",
       "      <td>1</td>\n",
       "      <td>0</td>\n",
       "      <td>0</td>\n",
       "      <td>0</td>\n",
       "    </tr>\n",
       "    <tr>\n",
       "      <th>1</th>\n",
       "      <td>1</td>\n",
       "      <td>2523</td>\n",
       "      <td>1270</td>\n",
       "      <td>0</td>\n",
       "      <td>1438214400000000000</td>\n",
       "      <td>1</td>\n",
       "      <td>1</td>\n",
       "      <td>1</td>\n",
       "      <td>0</td>\n",
       "      <td>0</td>\n",
       "      <td>...</td>\n",
       "      <td>0</td>\n",
       "      <td>0</td>\n",
       "      <td>0</td>\n",
       "      <td>0</td>\n",
       "      <td>1</td>\n",
       "      <td>0</td>\n",
       "      <td>1</td>\n",
       "      <td>0</td>\n",
       "      <td>0</td>\n",
       "      <td>0</td>\n",
       "    </tr>\n",
       "    <tr>\n",
       "      <th>2</th>\n",
       "      <td>1</td>\n",
       "      <td>2522</td>\n",
       "      <td>1270</td>\n",
       "      <td>0</td>\n",
       "      <td>1438128000000000000</td>\n",
       "      <td>1</td>\n",
       "      <td>1</td>\n",
       "      <td>1</td>\n",
       "      <td>0</td>\n",
       "      <td>0</td>\n",
       "      <td>...</td>\n",
       "      <td>0</td>\n",
       "      <td>0</td>\n",
       "      <td>0</td>\n",
       "      <td>0</td>\n",
       "      <td>1</td>\n",
       "      <td>0</td>\n",
       "      <td>1</td>\n",
       "      <td>0</td>\n",
       "      <td>0</td>\n",
       "      <td>0</td>\n",
       "    </tr>\n",
       "    <tr>\n",
       "      <th>3</th>\n",
       "      <td>1</td>\n",
       "      <td>2521</td>\n",
       "      <td>1270</td>\n",
       "      <td>0</td>\n",
       "      <td>1438041600000000000</td>\n",
       "      <td>1</td>\n",
       "      <td>1</td>\n",
       "      <td>1</td>\n",
       "      <td>0</td>\n",
       "      <td>1</td>\n",
       "      <td>...</td>\n",
       "      <td>0</td>\n",
       "      <td>0</td>\n",
       "      <td>0</td>\n",
       "      <td>0</td>\n",
       "      <td>1</td>\n",
       "      <td>0</td>\n",
       "      <td>1</td>\n",
       "      <td>0</td>\n",
       "      <td>0</td>\n",
       "      <td>0</td>\n",
       "    </tr>\n",
       "    <tr>\n",
       "      <th>4</th>\n",
       "      <td>1</td>\n",
       "      <td>2520</td>\n",
       "      <td>1270</td>\n",
       "      <td>0</td>\n",
       "      <td>1437955200000000000</td>\n",
       "      <td>1</td>\n",
       "      <td>1</td>\n",
       "      <td>1</td>\n",
       "      <td>1</td>\n",
       "      <td>0</td>\n",
       "      <td>...</td>\n",
       "      <td>0</td>\n",
       "      <td>0</td>\n",
       "      <td>0</td>\n",
       "      <td>0</td>\n",
       "      <td>1</td>\n",
       "      <td>0</td>\n",
       "      <td>1</td>\n",
       "      <td>0</td>\n",
       "      <td>0</td>\n",
       "      <td>0</td>\n",
       "    </tr>\n",
       "  </tbody>\n",
       "</table>\n",
       "<p>5 rows × 26 columns</p>\n",
       "</div>"
      ],
      "text/plain": [
       "   Promo  DaysSinceCompetition  CompetitionDistance  Promo2  \\\n",
       "0      1                  2524                 1270       0   \n",
       "1      1                  2523                 1270       0   \n",
       "2      1                  2522                 1270       0   \n",
       "3      1                  2521                 1270       0   \n",
       "4      1                  2520                 1270       0   \n",
       "\n",
       "               IntDate  Open  SchoolHoliday  Store  DayOfWeek_1  DayOfWeek_2  \\\n",
       "0  1438300800000000000     1              1      1            0            0   \n",
       "1  1438214400000000000     1              1      1            0            0   \n",
       "2  1438128000000000000     1              1      1            0            0   \n",
       "3  1438041600000000000     1              1      1            0            1   \n",
       "4  1437955200000000000     1              1      1            1            0   \n",
       "\n",
       "        ...        Assortment_b  Assortment_c  StoreType_a  StoreType_b  \\\n",
       "0       ...                   0             0            0            0   \n",
       "1       ...                   0             0            0            0   \n",
       "2       ...                   0             0            0            0   \n",
       "3       ...                   0             0            0            0   \n",
       "4       ...                   0             0            0            0   \n",
       "\n",
       "   StoreType_c  StoreType_d  StateHoliday_0  StateHoliday_a  StateHoliday_b  \\\n",
       "0            1            0               1               0               0   \n",
       "1            1            0               1               0               0   \n",
       "2            1            0               1               0               0   \n",
       "3            1            0               1               0               0   \n",
       "4            1            0               1               0               0   \n",
       "\n",
       "   StateHoliday_c  \n",
       "0               0  \n",
       "1               0  \n",
       "2               0  \n",
       "3               0  \n",
       "4               0  \n",
       "\n",
       "[5 rows x 26 columns]"
      ]
     },
     "execution_count": 51,
     "metadata": {},
     "output_type": "execute_result"
    }
   ],
   "source": [
    "X_clean = X_clean.fillna(method='pad')\n",
    "X_clean.head()"
   ]
  },
  {
   "cell_type": "code",
   "execution_count": 80,
   "metadata": {
    "collapsed": false
   },
   "outputs": [
    {
     "data": {
      "text/html": [
       "<div>\n",
       "<table border=\"1\" class=\"dataframe\">\n",
       "  <thead>\n",
       "    <tr style=\"text-align: right;\">\n",
       "      <th></th>\n",
       "      <th>Promo</th>\n",
       "      <th>DaysSinceCompetition</th>\n",
       "      <th>CompetitionDistance</th>\n",
       "      <th>Promo2</th>\n",
       "      <th>IntDate</th>\n",
       "      <th>Open</th>\n",
       "      <th>SchoolHoliday</th>\n",
       "      <th>Store</th>\n",
       "      <th>DayOfWeek_1</th>\n",
       "      <th>DayOfWeek_2</th>\n",
       "      <th>...</th>\n",
       "      <th>Assortment_b</th>\n",
       "      <th>Assortment_c</th>\n",
       "      <th>StoreType_a</th>\n",
       "      <th>StoreType_b</th>\n",
       "      <th>StoreType_c</th>\n",
       "      <th>StoreType_d</th>\n",
       "      <th>StateHoliday_0</th>\n",
       "      <th>StateHoliday_a</th>\n",
       "      <th>StateHoliday_b</th>\n",
       "      <th>StateHoliday_c</th>\n",
       "    </tr>\n",
       "  </thead>\n",
       "  <tbody>\n",
       "    <tr>\n",
       "      <th>0</th>\n",
       "      <td>1</td>\n",
       "      <td>2524</td>\n",
       "      <td>1270</td>\n",
       "      <td>0</td>\n",
       "      <td>1438300800000000000</td>\n",
       "      <td>1</td>\n",
       "      <td>1</td>\n",
       "      <td>1</td>\n",
       "      <td>0</td>\n",
       "      <td>0</td>\n",
       "      <td>...</td>\n",
       "      <td>0</td>\n",
       "      <td>0</td>\n",
       "      <td>0</td>\n",
       "      <td>0</td>\n",
       "      <td>1</td>\n",
       "      <td>0</td>\n",
       "      <td>1</td>\n",
       "      <td>0</td>\n",
       "      <td>0</td>\n",
       "      <td>0</td>\n",
       "    </tr>\n",
       "    <tr>\n",
       "      <th>1</th>\n",
       "      <td>1</td>\n",
       "      <td>2523</td>\n",
       "      <td>1270</td>\n",
       "      <td>0</td>\n",
       "      <td>1438214400000000000</td>\n",
       "      <td>1</td>\n",
       "      <td>1</td>\n",
       "      <td>1</td>\n",
       "      <td>0</td>\n",
       "      <td>0</td>\n",
       "      <td>...</td>\n",
       "      <td>0</td>\n",
       "      <td>0</td>\n",
       "      <td>0</td>\n",
       "      <td>0</td>\n",
       "      <td>1</td>\n",
       "      <td>0</td>\n",
       "      <td>1</td>\n",
       "      <td>0</td>\n",
       "      <td>0</td>\n",
       "      <td>0</td>\n",
       "    </tr>\n",
       "    <tr>\n",
       "      <th>2</th>\n",
       "      <td>1</td>\n",
       "      <td>2522</td>\n",
       "      <td>1270</td>\n",
       "      <td>0</td>\n",
       "      <td>1438128000000000000</td>\n",
       "      <td>1</td>\n",
       "      <td>1</td>\n",
       "      <td>1</td>\n",
       "      <td>0</td>\n",
       "      <td>0</td>\n",
       "      <td>...</td>\n",
       "      <td>0</td>\n",
       "      <td>0</td>\n",
       "      <td>0</td>\n",
       "      <td>0</td>\n",
       "      <td>1</td>\n",
       "      <td>0</td>\n",
       "      <td>1</td>\n",
       "      <td>0</td>\n",
       "      <td>0</td>\n",
       "      <td>0</td>\n",
       "    </tr>\n",
       "    <tr>\n",
       "      <th>3</th>\n",
       "      <td>1</td>\n",
       "      <td>2521</td>\n",
       "      <td>1270</td>\n",
       "      <td>0</td>\n",
       "      <td>1438041600000000000</td>\n",
       "      <td>1</td>\n",
       "      <td>1</td>\n",
       "      <td>1</td>\n",
       "      <td>0</td>\n",
       "      <td>1</td>\n",
       "      <td>...</td>\n",
       "      <td>0</td>\n",
       "      <td>0</td>\n",
       "      <td>0</td>\n",
       "      <td>0</td>\n",
       "      <td>1</td>\n",
       "      <td>0</td>\n",
       "      <td>1</td>\n",
       "      <td>0</td>\n",
       "      <td>0</td>\n",
       "      <td>0</td>\n",
       "    </tr>\n",
       "    <tr>\n",
       "      <th>4</th>\n",
       "      <td>1</td>\n",
       "      <td>2520</td>\n",
       "      <td>1270</td>\n",
       "      <td>0</td>\n",
       "      <td>1437955200000000000</td>\n",
       "      <td>1</td>\n",
       "      <td>1</td>\n",
       "      <td>1</td>\n",
       "      <td>1</td>\n",
       "      <td>0</td>\n",
       "      <td>...</td>\n",
       "      <td>0</td>\n",
       "      <td>0</td>\n",
       "      <td>0</td>\n",
       "      <td>0</td>\n",
       "      <td>1</td>\n",
       "      <td>0</td>\n",
       "      <td>1</td>\n",
       "      <td>0</td>\n",
       "      <td>0</td>\n",
       "      <td>0</td>\n",
       "    </tr>\n",
       "  </tbody>\n",
       "</table>\n",
       "<p>5 rows × 26 columns</p>\n",
       "</div>"
      ],
      "text/plain": [
       "   Promo  DaysSinceCompetition  CompetitionDistance  Promo2  \\\n",
       "0      1                  2524                 1270       0   \n",
       "1      1                  2523                 1270       0   \n",
       "2      1                  2522                 1270       0   \n",
       "3      1                  2521                 1270       0   \n",
       "4      1                  2520                 1270       0   \n",
       "\n",
       "               IntDate  Open  SchoolHoliday  Store  DayOfWeek_1  DayOfWeek_2  \\\n",
       "0  1438300800000000000     1              1      1            0            0   \n",
       "1  1438214400000000000     1              1      1            0            0   \n",
       "2  1438128000000000000     1              1      1            0            0   \n",
       "3  1438041600000000000     1              1      1            0            1   \n",
       "4  1437955200000000000     1              1      1            1            0   \n",
       "\n",
       "        ...        Assortment_b  Assortment_c  StoreType_a  StoreType_b  \\\n",
       "0       ...                   0             0            0            0   \n",
       "1       ...                   0             0            0            0   \n",
       "2       ...                   0             0            0            0   \n",
       "3       ...                   0             0            0            0   \n",
       "4       ...                   0             0            0            0   \n",
       "\n",
       "   StoreType_c  StoreType_d  StateHoliday_0  StateHoliday_a  StateHoliday_b  \\\n",
       "0            1            0               1               0               0   \n",
       "1            1            0               1               0               0   \n",
       "2            1            0               1               0               0   \n",
       "3            1            0               1               0               0   \n",
       "4            1            0               1               0               0   \n",
       "\n",
       "   StateHoliday_c  \n",
       "0               0  \n",
       "1               0  \n",
       "2               0  \n",
       "3               0  \n",
       "4               0  \n",
       "\n",
       "[5 rows x 26 columns]"
      ]
     },
     "execution_count": 80,
     "metadata": {},
     "output_type": "execute_result"
    }
   ],
   "source": [
    "X_open = X_clean[X_clean.Open==1]\n",
    "Y_open = df.Sales[X_clean.Open==1]\n",
    "X_open.head()"
   ]
  },
  {
   "cell_type": "code",
   "execution_count": 83,
   "metadata": {
    "collapsed": false
   },
   "outputs": [
    {
     "data": {
      "text/plain": [
       "0    5263\n",
       "1    5020\n",
       "2    4782\n",
       "3    5011\n",
       "4    6102\n",
       "Name: Sales, dtype: int64"
      ]
     },
     "execution_count": 83,
     "metadata": {},
     "output_type": "execute_result"
    }
   ],
   "source": [
    "Y_open.head()"
   ]
  },
  {
   "cell_type": "code",
   "execution_count": 81,
   "metadata": {
    "collapsed": false
   },
   "outputs": [],
   "source": [
    "scaler = StandardScaler()\n",
    "X_train = scaler.fit_transform(X_open)"
   ]
  },
  {
   "cell_type": "code",
   "execution_count": 62,
   "metadata": {
    "collapsed": false
   },
   "outputs": [
    {
     "data": {
      "text/plain": [
       "(844392L, 26L)"
      ]
     },
     "execution_count": 62,
     "metadata": {},
     "output_type": "execute_result"
    }
   ],
   "source": [
    "X_train.shape"
   ]
  },
  {
   "cell_type": "code",
   "execution_count": 85,
   "metadata": {
    "collapsed": false
   },
   "outputs": [
    {
     "data": {
      "text/plain": [
       "(844392L,)"
      ]
     },
     "execution_count": 85,
     "metadata": {},
     "output_type": "execute_result"
    }
   ],
   "source": [
    "Y_train = np.array(Y_open)\n",
    "Y_train.shape"
   ]
  },
  {
   "cell_type": "code",
   "execution_count": 86,
   "metadata": {
    "collapsed": false
   },
   "outputs": [],
   "source": [
    "from sklearn.utils import shuffle\n",
    "X_train, Y_train = shuffle(X_train, Y_train, random_state=42)"
   ]
  },
  {
   "cell_type": "code",
   "execution_count": 87,
   "metadata": {
    "collapsed": true
   },
   "outputs": [],
   "source": [
    "from sklearn.cross_validation import KFold\n",
    "kf = KFold(len(Y_train), random_state=42)"
   ]
  },
  {
   "cell_type": "markdown",
   "metadata": {},
   "source": [
    "### train on clean data without differentiating open status"
   ]
  },
  {
   "cell_type": "code",
   "execution_count": 291,
   "metadata": {
    "collapsed": false
   },
   "outputs": [
    {
     "name": "stdout",
     "output_type": "stream",
     "text": [
      "-0.262331016301\n",
      "-0.208038798099\n",
      "-0.235838257157\n"
     ]
    }
   ],
   "source": [
    "from sklearn.ensemble import RandomForestRegressor\n",
    "forest = RandomForestRegressor()\n",
    "for train_ind, test_ind in kf:\n",
    "    forest.fit(X_clean.iloc[train_ind], Y.iloc[train_ind])\n",
    "    print forest.score(X_clean.iloc[test_ind], Y.iloc[test_ind])"
   ]
  },
  {
   "cell_type": "code",
   "execution_count": 294,
   "metadata": {
    "collapsed": true
   },
   "outputs": [
    {
     "name": "stdout",
     "output_type": "stream",
     "text": [
      "[ 7102.4  5506.8  6668.6 ...,  3610.2  5826.4  5606. ]\n",
      "678140      9624\n",
      "678141     10018\n",
      "678142     13236\n",
      "678143         0\n",
      "678144      3011\n",
      "678145      7543\n",
      "678146         0\n",
      "678147      5906\n",
      "678148      5738\n",
      "678149      7392\n",
      "678150         0\n",
      "678151      3207\n",
      "678152      8912\n",
      "678153      7606\n",
      "678154      9017\n",
      "678155      9509\n",
      "678156     11731\n",
      "678157         0\n",
      "678158      3017\n",
      "678159      5717\n",
      "678160      5582\n",
      "678161      5677\n",
      "678162      5747\n",
      "678163      5803\n",
      "678164         0\n",
      "678165      3014\n",
      "678166      8296\n",
      "678167      8513\n",
      "678168      9054\n",
      "678169     10293\n",
      "           ...  \n",
      "1017179     3813\n",
      "1017180     3397\n",
      "1017181     3615\n",
      "1017182        0\n",
      "1017183     4896\n",
      "1017184     5082\n",
      "1017185     5650\n",
      "1017186     5176\n",
      "1017187     5388\n",
      "1017188     3723\n",
      "1017189        0\n",
      "1017190     5207\n",
      "1017191     4287\n",
      "1017192     3039\n",
      "1017193     3064\n",
      "1017194     3528\n",
      "1017195     3158\n",
      "1017196        0\n",
      "1017197     4497\n",
      "1017198     5142\n",
      "1017199     5007\n",
      "1017200     4649\n",
      "1017201     5243\n",
      "1017202     6905\n",
      "1017203        0\n",
      "1017204     4771\n",
      "1017205     4540\n",
      "1017206     4297\n",
      "1017207     3697\n",
      "1017208        0\n",
      "Name: Sales, dtype: int64\n"
     ]
    }
   ],
   "source": [
    "print forest.predict(X_clean[test_ind])\n",
    "print Y[test_ind]"
   ]
  },
  {
   "cell_type": "code",
   "execution_count": 296,
   "metadata": {
    "collapsed": false
   },
   "outputs": [
    {
     "data": {
      "text/plain": [
       "array([  7102.4       ,   5506.8       ,   6668.6       ,   6102.9       ,\n",
       "         5606.8       ,   5799.2       ,   5754.2       ,   7594.1       ,\n",
       "         6212.3       ,   4235.06666667,   5901.3       ,   5514.6       ,\n",
       "         3469.9       ,   6243.2       ,   2659.7       ,   7164.7       ,\n",
       "         5421.3       ,   5506.4       ,  11749.8       ,   3580.3       ])"
      ]
     },
     "execution_count": 296,
     "metadata": {},
     "output_type": "execute_result"
    }
   ],
   "source": [
    "temp = forest.predict(X_clean[test_ind])\n",
    "temp[:20]"
   ]
  },
  {
   "cell_type": "markdown",
   "metadata": {},
   "source": [
    "### Train on filtered data that is open"
   ]
  },
  {
   "cell_type": "code",
   "execution_count": 88,
   "metadata": {
    "collapsed": false
   },
   "outputs": [
    {
     "name": "stdout",
     "output_type": "stream",
     "text": [
      "(844392L, 26L) (844392L,)\n"
     ]
    }
   ],
   "source": [
    "print X_train.shape, Y_train.shape"
   ]
  },
  {
   "cell_type": "code",
   "execution_count": 392,
   "metadata": {
    "collapsed": false
   },
   "outputs": [
    {
     "name": "stdout",
     "output_type": "stream",
     "text": [
      "0.877327814294\n",
      "0.877435824846\n",
      "0.8764278093\n"
     ]
    }
   ],
   "source": [
    "### 2nd submission\n",
    "from sklearn.ensemble import RandomForestRegressor\n",
    "forest = RandomForestRegressor()\n",
    "for train_ind, test_ind in kf:\n",
    "    forest.fit(X_train.iloc[train_ind], Y_train.iloc[train_ind])\n",
    "    print forest.score(X_train.iloc[test_ind], Y_train.iloc[test_ind])"
   ]
  },
  {
   "cell_type": "code",
   "execution_count": 89,
   "metadata": {
    "collapsed": false
   },
   "outputs": [
    {
     "name": "stdout",
     "output_type": "stream",
     "text": [
      "0.878668169862\n",
      "0.877205501246\n",
      "0.876474068464\n"
     ]
    }
   ],
   "source": [
    "### 3rd submission\n",
    "from sklearn.ensemble import RandomForestRegressor\n",
    "forest = RandomForestRegressor()\n",
    "for train_ind, test_ind in kf:\n",
    "    forest.fit(X_train[train_ind], Y_train[train_ind])\n",
    "    print forest.score(X_train[test_ind], Y_train[test_ind])"
   ]
  },
  {
   "cell_type": "code",
   "execution_count": 393,
   "metadata": {
    "collapsed": false
   },
   "outputs": [
    {
     "data": {
      "text/plain": [
       "RandomForestRegressor(bootstrap=True, criterion='mse', max_depth=None,\n",
       "           max_features='auto', max_leaf_nodes=None, min_samples_leaf=1,\n",
       "           min_samples_split=2, min_weight_fraction_leaf=0.0,\n",
       "           n_estimators=10, n_jobs=1, oob_score=False, random_state=None,\n",
       "           verbose=0, warm_start=False)"
      ]
     },
     "execution_count": 393,
     "metadata": {},
     "output_type": "execute_result"
    }
   ],
   "source": [
    "forest.fit(X_train, Y_train)"
   ]
  },
  {
   "cell_type": "code",
   "execution_count": 467,
   "metadata": {
    "collapsed": false
   },
   "outputs": [],
   "source": [
    "Y_predict = forest.predict(X_train)"
   ]
  },
  {
   "cell_type": "code",
   "execution_count": 468,
   "metadata": {
    "collapsed": false
   },
   "outputs": [
    {
     "data": {
      "text/plain": [
       "array([  6485. ,   7869.8,   6895.8,   8153.7,   4343.2,   7641. ,\n",
       "         7556.6,   4368.1,   5612.8,   5880.5,   8007.4,   3901.2,\n",
       "         2577.9,   3710.1,   6088.9,  11483.6,   3710.1,   5463.2,\n",
       "         6682.7,   7267.3])"
      ]
     },
     "execution_count": 468,
     "metadata": {},
     "output_type": "execute_result"
    }
   ],
   "source": [
    "Y_predict[:20]"
   ]
  },
  {
   "cell_type": "code",
   "execution_count": 401,
   "metadata": {
    "collapsed": false
   },
   "outputs": [],
   "source": [
    "test = pd.merge(test, store, on='Store')\n",
    "test.Date = pd.to_datetime(test.Date)\n",
    "test['IntDate'] = test.Date.astype(np.int64)\n",
    "test['CompDate'] = test[['CompetitionOpenSinceYear','CompetitionOpenSinceMonth','IntDate']].apply(\n",
    "    lambda row: pd.to_datetime(int(row.CompetitionOpenSinceYear*100+row.CompetitionOpenSinceMonth)\n",
    "                               ,format='%Y%m') if not np.isnan(row.CompetitionOpenSinceYear) \n",
    "    else np.nan, axis=1)\n",
    "test['DaysSinceCompetition'] = test[['Date','CompDate']].apply(lambda x: (x.Date-x.CompDate).days if \n",
    "                                                           not pd.isnull(x.CompDate) else np.nan, axis=1)"
   ]
  },
  {
   "cell_type": "code",
   "execution_count": 402,
   "metadata": {
    "collapsed": false
   },
   "outputs": [],
   "source": [
    "test['Sales'] = 0"
   ]
  },
  {
   "cell_type": "code",
   "execution_count": 410,
   "metadata": {
    "collapsed": false
   },
   "outputs": [],
   "source": [
    "test = test.fillna(test.mean())"
   ]
  },
  {
   "cell_type": "code",
   "execution_count": 417,
   "metadata": {
    "collapsed": false
   },
   "outputs": [
    {
     "data": {
      "text/plain": [
       "DayOfWeek                 int64\n",
       "IntDate                   int64\n",
       "StateHoliday             object\n",
       "Promo                     int64\n",
       "DaysSinceCompetition    float64\n",
       "Open                    float64\n",
       "SchoolHoliday             int64\n",
       "Assortment               object\n",
       "CompetitionDistance     float64\n",
       "Promo2                    int64\n",
       "StoreType                object\n",
       "Store                     int64\n",
       "dtype: object"
      ]
     },
     "execution_count": 417,
     "metadata": {},
     "output_type": "execute_result"
    }
   ],
   "source": [
    "test[feature_list].dtypes"
   ]
  },
  {
   "cell_type": "code",
   "execution_count": 418,
   "metadata": {
    "collapsed": false
   },
   "outputs": [
    {
     "name": "stdout",
     "output_type": "stream",
     "text": [
      "['0' 'a']\n",
      "['0' 'a' 'b' 'c']\n",
      "['c' 'a' 'd' 'b']\n",
      "['c' 'a' 'd' 'b']\n",
      "['a' 'c' 'b']\n",
      "['a' 'c' 'b']\n"
     ]
    }
   ],
   "source": [
    "print test['StateHoliday'].unique()\n",
    "print X['StateHoliday'].unique()\n",
    "print test['StoreType'].unique()\n",
    "print X['StoreType'].unique()\n",
    "print test['Assortment'].unique()\n",
    "print X['Assortment'].unique()"
   ]
  },
  {
   "cell_type": "code",
   "execution_count": 458,
   "metadata": {
    "collapsed": false
   },
   "outputs": [],
   "source": [
    "test_trans = cat_int_trans.transform(test[feature_list])"
   ]
  },
  {
   "cell_type": "code",
   "execution_count": 469,
   "metadata": {
    "collapsed": false
   },
   "outputs": [
    {
     "data": {
      "text/html": [
       "<div>\n",
       "<table border=\"1\" class=\"dataframe\">\n",
       "  <thead>\n",
       "    <tr style=\"text-align: right;\">\n",
       "      <th></th>\n",
       "      <th>DayOfWeek</th>\n",
       "      <th>Promo</th>\n",
       "      <th>DaysSinceCompetition</th>\n",
       "      <th>CompetitionDistance</th>\n",
       "      <th>Promo2</th>\n",
       "      <th>IntDate</th>\n",
       "      <th>Open</th>\n",
       "      <th>SchoolHoliday</th>\n",
       "      <th>Store</th>\n",
       "      <th>Assortment_a</th>\n",
       "      <th>Assortment_b</th>\n",
       "      <th>Assortment_c</th>\n",
       "      <th>StoreType_a</th>\n",
       "      <th>StoreType_b</th>\n",
       "      <th>StoreType_c</th>\n",
       "      <th>StoreType_d</th>\n",
       "      <th>StateHoliday_0</th>\n",
       "      <th>StateHoliday_a</th>\n",
       "      <th>StateHoliday_b</th>\n",
       "      <th>StateHoliday_c</th>\n",
       "    </tr>\n",
       "  </thead>\n",
       "  <tbody>\n",
       "    <tr>\n",
       "      <th>0</th>\n",
       "      <td>4</td>\n",
       "      <td>1</td>\n",
       "      <td>2572</td>\n",
       "      <td>1270</td>\n",
       "      <td>0</td>\n",
       "      <td>1442448000000000000</td>\n",
       "      <td>1</td>\n",
       "      <td>0</td>\n",
       "      <td>1</td>\n",
       "      <td>1</td>\n",
       "      <td>0</td>\n",
       "      <td>0</td>\n",
       "      <td>0</td>\n",
       "      <td>0</td>\n",
       "      <td>1</td>\n",
       "      <td>0</td>\n",
       "      <td>1</td>\n",
       "      <td>0</td>\n",
       "      <td>0</td>\n",
       "      <td>0</td>\n",
       "    </tr>\n",
       "    <tr>\n",
       "      <th>1</th>\n",
       "      <td>3</td>\n",
       "      <td>1</td>\n",
       "      <td>2571</td>\n",
       "      <td>1270</td>\n",
       "      <td>0</td>\n",
       "      <td>1442361600000000000</td>\n",
       "      <td>1</td>\n",
       "      <td>0</td>\n",
       "      <td>1</td>\n",
       "      <td>1</td>\n",
       "      <td>0</td>\n",
       "      <td>0</td>\n",
       "      <td>0</td>\n",
       "      <td>0</td>\n",
       "      <td>1</td>\n",
       "      <td>0</td>\n",
       "      <td>1</td>\n",
       "      <td>0</td>\n",
       "      <td>0</td>\n",
       "      <td>0</td>\n",
       "    </tr>\n",
       "    <tr>\n",
       "      <th>2</th>\n",
       "      <td>2</td>\n",
       "      <td>1</td>\n",
       "      <td>2570</td>\n",
       "      <td>1270</td>\n",
       "      <td>0</td>\n",
       "      <td>1442275200000000000</td>\n",
       "      <td>1</td>\n",
       "      <td>0</td>\n",
       "      <td>1</td>\n",
       "      <td>1</td>\n",
       "      <td>0</td>\n",
       "      <td>0</td>\n",
       "      <td>0</td>\n",
       "      <td>0</td>\n",
       "      <td>1</td>\n",
       "      <td>0</td>\n",
       "      <td>1</td>\n",
       "      <td>0</td>\n",
       "      <td>0</td>\n",
       "      <td>0</td>\n",
       "    </tr>\n",
       "    <tr>\n",
       "      <th>3</th>\n",
       "      <td>1</td>\n",
       "      <td>1</td>\n",
       "      <td>2569</td>\n",
       "      <td>1270</td>\n",
       "      <td>0</td>\n",
       "      <td>1442188800000000000</td>\n",
       "      <td>1</td>\n",
       "      <td>0</td>\n",
       "      <td>1</td>\n",
       "      <td>1</td>\n",
       "      <td>0</td>\n",
       "      <td>0</td>\n",
       "      <td>0</td>\n",
       "      <td>0</td>\n",
       "      <td>1</td>\n",
       "      <td>0</td>\n",
       "      <td>1</td>\n",
       "      <td>0</td>\n",
       "      <td>0</td>\n",
       "      <td>0</td>\n",
       "    </tr>\n",
       "    <tr>\n",
       "      <th>4</th>\n",
       "      <td>7</td>\n",
       "      <td>0</td>\n",
       "      <td>2568</td>\n",
       "      <td>1270</td>\n",
       "      <td>0</td>\n",
       "      <td>1442102400000000000</td>\n",
       "      <td>0</td>\n",
       "      <td>0</td>\n",
       "      <td>1</td>\n",
       "      <td>1</td>\n",
       "      <td>0</td>\n",
       "      <td>0</td>\n",
       "      <td>0</td>\n",
       "      <td>0</td>\n",
       "      <td>1</td>\n",
       "      <td>0</td>\n",
       "      <td>1</td>\n",
       "      <td>0</td>\n",
       "      <td>0</td>\n",
       "      <td>0</td>\n",
       "    </tr>\n",
       "  </tbody>\n",
       "</table>\n",
       "</div>"
      ],
      "text/plain": [
       "   DayOfWeek  Promo  DaysSinceCompetition  CompetitionDistance  Promo2  \\\n",
       "0          4      1                  2572                 1270       0   \n",
       "1          3      1                  2571                 1270       0   \n",
       "2          2      1                  2570                 1270       0   \n",
       "3          1      1                  2569                 1270       0   \n",
       "4          7      0                  2568                 1270       0   \n",
       "\n",
       "               IntDate  Open  SchoolHoliday  Store  Assortment_a  \\\n",
       "0  1442448000000000000     1              0      1             1   \n",
       "1  1442361600000000000     1              0      1             1   \n",
       "2  1442275200000000000     1              0      1             1   \n",
       "3  1442188800000000000     1              0      1             1   \n",
       "4  1442102400000000000     0              0      1             1   \n",
       "\n",
       "   Assortment_b  Assortment_c  StoreType_a  StoreType_b  StoreType_c  \\\n",
       "0             0             0            0            0            1   \n",
       "1             0             0            0            0            1   \n",
       "2             0             0            0            0            1   \n",
       "3             0             0            0            0            1   \n",
       "4             0             0            0            0            1   \n",
       "\n",
       "   StoreType_d  StateHoliday_0  StateHoliday_a  StateHoliday_b  StateHoliday_c  \n",
       "0            0               1               0               0               0  \n",
       "1            0               1               0               0               0  \n",
       "2            0               1               0               0               0  \n",
       "3            0               1               0               0               0  \n",
       "4            0               1               0               0               0  "
      ]
     },
     "execution_count": 469,
     "metadata": {},
     "output_type": "execute_result"
    }
   ],
   "source": [
    "test_trans.head()"
   ]
  },
  {
   "cell_type": "code",
   "execution_count": 459,
   "metadata": {
    "collapsed": true
   },
   "outputs": [],
   "source": [
    "test_scale = scaler.transform(test_trans)"
   ]
  },
  {
   "cell_type": "code",
   "execution_count": 462,
   "metadata": {
    "collapsed": false
   },
   "outputs": [],
   "source": [
    "test.Sales = forest.predict(test_scale)"
   ]
  },
  {
   "cell_type": "code",
   "execution_count": 463,
   "metadata": {
    "collapsed": false
   },
   "outputs": [
    {
     "name": "stderr",
     "output_type": "stream",
     "text": [
      "C:\\Anaconda\\lib\\site-packages\\ipykernel\\__main__.py:1: SettingWithCopyWarning: \n",
      "A value is trying to be set on a copy of a slice from a DataFrame\n",
      "\n",
      "See the the caveats in the documentation: http://pandas.pydata.org/pandas-docs/stable/indexing.html#indexing-view-versus-copy\n",
      "  if __name__ == '__main__':\n"
     ]
    }
   ],
   "source": [
    "test.Sales[test.Open==0] = 0"
   ]
  },
  {
   "cell_type": "code",
   "execution_count": 476,
   "metadata": {
    "collapsed": false
   },
   "outputs": [],
   "source": [
    "test[['Id','Sales']].sort('Id').to_csv('random_forest.csv', index=False)"
   ]
  },
  {
   "cell_type": "code",
   "execution_count": 478,
   "metadata": {
    "collapsed": false
   },
   "outputs": [
    {
     "name": "stdout",
     "output_type": "stream",
     "text": [
      "['DayOfWeek', 'IntDate', 'StateHoliday', 'Promo', 'DaysSinceCompetition', 'Open', 'SchoolHoliday', 'Assortment', 'CompetitionDistance', 'Promo2', 'StoreType', 'Store']\n"
     ]
    }
   ],
   "source": [
    "print feature_list"
   ]
  },
  {
   "cell_type": "markdown",
   "metadata": {
    "collapsed": true
   },
   "source": [
    "## With fewer features"
   ]
  },
  {
   "cell_type": "code",
   "execution_count": 111,
   "metadata": {
    "collapsed": false
   },
   "outputs": [
    {
     "data": {
      "text/plain": [
       "Index([u'Store', u'DayOfWeek', u'Date', u'Sales', u'Customers', u'Open',\n",
       "       u'Promo', u'StateHoliday', u'SchoolHoliday', u'StoreType',\n",
       "       u'Assortment', u'CompetitionDistance', u'CompetitionOpenSinceMonth',\n",
       "       u'CompetitionOpenSinceYear', u'Promo2', u'Promo2SinceWeek',\n",
       "       u'Promo2SinceYear', u'PromoInterval', u'IntDate', u'CompDate',\n",
       "       u'DaysSinceCompetition', u'DayOfYear'],\n",
       "      dtype='object')"
      ]
     },
     "execution_count": 111,
     "metadata": {},
     "output_type": "execute_result"
    }
   ],
   "source": [
    "df.columns"
   ]
  },
  {
   "cell_type": "code",
   "execution_count": 113,
   "metadata": {
    "collapsed": true
   },
   "outputs": [],
   "source": [
    "feature_few = ['Store', 'DayOfWeek', 'DayOfYear', 'IntDate', 'Open',\n",
    "       'Promo', 'StateHoliday', 'SchoolHoliday']"
   ]
  },
  {
   "cell_type": "code",
   "execution_count": 122,
   "metadata": {
    "collapsed": true
   },
   "outputs": [],
   "source": [
    "X = df[feature_few]\n",
    "Y = df.Sales"
   ]
  },
  {
   "cell_type": "code",
   "execution_count": 123,
   "metadata": {
    "collapsed": false
   },
   "outputs": [
    {
     "data": {
      "text/plain": [
       "Store             int64\n",
       "DayOfWeek        object\n",
       "DayOfYear         int64\n",
       "IntDate           int64\n",
       "Open              int64\n",
       "Promo             int64\n",
       "StateHoliday     object\n",
       "SchoolHoliday     int64\n",
       "dtype: object"
      ]
     },
     "execution_count": 123,
     "metadata": {},
     "output_type": "execute_result"
    }
   ],
   "source": [
    "X.DayOfWeek = X.DayOfWeek.astype(object)\n",
    "X.dtypes"
   ]
  },
  {
   "cell_type": "code",
   "execution_count": 124,
   "metadata": {
    "collapsed": false
   },
   "outputs": [],
   "source": [
    "cat_int_trans_few = CatIntTrans()\n",
    "X_scaled = cat_int_trans_few.fit_transform(X)"
   ]
  },
  {
   "cell_type": "code",
   "execution_count": 125,
   "metadata": {
    "collapsed": true
   },
   "outputs": [],
   "source": [
    "X_clean = X_scaled[X.Open==1]\n",
    "Y_clean = Y[X.Open==1]"
   ]
  },
  {
   "cell_type": "code",
   "execution_count": 126,
   "metadata": {
    "collapsed": true
   },
   "outputs": [],
   "source": [
    "scaler_few = StandardScaler()\n",
    "X_train = scaler_few.fit_transform(X_clean)\n",
    "Y_train = np.array(Y_clean)"
   ]
  },
  {
   "cell_type": "code",
   "execution_count": 127,
   "metadata": {
    "collapsed": true
   },
   "outputs": [],
   "source": [
    "X_train, Y_train = shuffle(X_train, Y_train, random_state=42)"
   ]
  },
  {
   "cell_type": "code",
   "execution_count": 128,
   "metadata": {
    "collapsed": false
   },
   "outputs": [
    {
     "name": "stdout",
     "output_type": "stream",
     "text": [
      "0.685237101267\n",
      "0.65854308453\n",
      "0.685858297224\n"
     ]
    }
   ],
   "source": [
    "### 3rd submission \n",
    "from sklearn.ensemble import RandomForestRegressor\n",
    "forest = RandomForestRegressor()\n",
    "for train_ind, test_ind in kf:\n",
    "    forest.fit(X_train[train_ind], Y_train[train_ind])\n",
    "    print forest.score(X_train[test_ind], Y_train[test_ind])"
   ]
  },
  {
   "cell_type": "code",
   "execution_count": 129,
   "metadata": {
    "collapsed": false
   },
   "outputs": [
    {
     "data": {
      "text/plain": [
       "array([  1.35605394e-01,   7.05344985e-02,   3.97129800e-02,\n",
       "         0.00000000e+00,   7.76204452e-03,   6.80884479e-01,\n",
       "         3.26165057e-02,   3.21795009e-03,   2.21530619e-03,\n",
       "         2.11276855e-03,   3.50605266e-03,   1.76703654e-02,\n",
       "         2.75871146e-03,   8.06793572e-04,   3.87568982e-04,\n",
       "         1.90858091e-04,   1.77232904e-05])"
      ]
     },
     "execution_count": 129,
     "metadata": {},
     "output_type": "execute_result"
    }
   ],
   "source": [
    "forest.feature_importances_"
   ]
  },
  {
   "cell_type": "code",
   "execution_count": 131,
   "metadata": {
    "collapsed": false
   },
   "outputs": [
    {
     "data": {
      "text/plain": [
       "Index([u'Promo', u'DayOfYear', u'IntDate', u'Open', u'SchoolHoliday', u'Store',\n",
       "       u'DayOfWeek_1', u'DayOfWeek_2', u'DayOfWeek_3', u'DayOfWeek_4',\n",
       "       u'DayOfWeek_5', u'DayOfWeek_6', u'DayOfWeek_7', u'StateHoliday_0',\n",
       "       u'StateHoliday_a', u'StateHoliday_b', u'StateHoliday_c'],\n",
       "      dtype='object')"
      ]
     },
     "execution_count": 131,
     "metadata": {},
     "output_type": "execute_result"
    }
   ],
   "source": [
    "X_clean.columns"
   ]
  },
  {
   "cell_type": "markdown",
   "metadata": {},
   "source": [
    "### Many features"
   ]
  },
  {
   "cell_type": "code",
   "execution_count": 132,
   "metadata": {
    "collapsed": false
   },
   "outputs": [
    {
     "data": {
      "text/plain": [
       "Store            object\n",
       "DayOfWeek        object\n",
       "DayOfYear         int64\n",
       "IntDate           int64\n",
       "Open              int64\n",
       "Promo             int64\n",
       "StateHoliday     object\n",
       "SchoolHoliday     int64\n",
       "dtype: object"
      ]
     },
     "execution_count": 132,
     "metadata": {},
     "output_type": "execute_result"
    }
   ],
   "source": [
    "X.Store = X.Store.astype(object)\n",
    "X.dtypes"
   ]
  },
  {
   "cell_type": "code",
   "execution_count": 135,
   "metadata": {
    "collapsed": false
   },
   "outputs": [
    {
     "data": {
      "text/plain": [
       "<matplotlib.axes._subplots.AxesSubplot at 0x21f073c8>"
      ]
     },
     "execution_count": 135,
     "metadata": {},
     "output_type": "execute_result"
    },
    {
     "data": {
      "image/png": "[encoded data removed]",
      "text/plain": [
       "<matplotlib.figure.Figure at 0x21f1fef0>"
      ]
     },
     "metadata": {},
     "output_type": "display_data"
    }
   ],
   "source": [
    "df[df.Open==1].plot(x='Store',y='Sales')"
   ]
  },
  {
   "cell_type": "code",
   "execution_count": 137,
   "metadata": {
    "collapsed": false
   },
   "outputs": [
    {
     "data": {
      "text/plain": [
       "<matplotlib.axes._subplots.AxesSubplot at 0x11940b208>"
      ]
     },
     "execution_count": 137,
     "metadata": {},
     "output_type": "execute_result"
    },
    {
     "data": {
      "image/png": "[encoded data removed]",
      "text/plain": [
       "<matplotlib.figure.Figure at 0x119416f28>"
      ]
     },
     "metadata": {},
     "output_type": "display_data"
    }
   ],
   "source": [
    "sbn.stripplot(x='Store',y='Sales',data=df[df.Open==1], alpha=0.2)"
   ]
  },
  {
   "cell_type": "code",
   "execution_count": 147,
   "metadata": {
    "collapsed": true
   },
   "outputs": [],
   "source": [
    "feature_more = ['DayOfWeek','Open','Promo','StateHoliday','SchoolHoliday','StoreType','Assortment','CompetitionDistance','Promo2','Promo2SinceWeek','Promo2SinceYear','PromoInterval','IntDate','DaysSinceCompetition','DayOfYear']"
   ]
  },
  {
   "cell_type": "code",
   "execution_count": 175,
   "metadata": {
    "collapsed": false
   },
   "outputs": [
    {
     "data": {
      "text/plain": [
       "DayOfWeek                 int32\n",
       "Open                      int64\n",
       "Promo                     int64\n",
       "StateHoliday             object\n",
       "SchoolHoliday             int64\n",
       "StoreType                object\n",
       "Assortment               object\n",
       "CompetitionDistance     float64\n",
       "Promo2                    int64\n",
       "Promo2SinceWeek         float64\n",
       "Promo2SinceYear         float64\n",
       "PromoInterval            object\n",
       "IntDate                   int64\n",
       "DaysSinceCompetition    float64\n",
       "DayOfYear                 int64\n",
       "dtype: object"
      ]
     },
     "execution_count": 175,
     "metadata": {},
     "output_type": "execute_result"
    }
   ],
   "source": [
    "X.dtypes"
   ]
  },
  {
   "cell_type": "code",
   "execution_count": 184,
   "metadata": {
    "collapsed": false
   },
   "outputs": [
    {
     "data": {
      "text/html": [
       "<div>\n",
       "<table border=\"1\" class=\"dataframe\">\n",
       "  <thead>\n",
       "    <tr style=\"text-align: right;\">\n",
       "      <th></th>\n",
       "      <th>DayOfWeek</th>\n",
       "      <th>Open</th>\n",
       "      <th>Promo</th>\n",
       "      <th>StateHoliday</th>\n",
       "      <th>SchoolHoliday</th>\n",
       "      <th>StoreType</th>\n",
       "      <th>Assortment</th>\n",
       "      <th>CompetitionDistance</th>\n",
       "      <th>Promo2</th>\n",
       "      <th>Promo2SinceWeek</th>\n",
       "      <th>Promo2SinceYear</th>\n",
       "      <th>PromoInterval</th>\n",
       "      <th>IntDate</th>\n",
       "      <th>DaysSinceCompetition</th>\n",
       "      <th>DayOfYear</th>\n",
       "    </tr>\n",
       "  </thead>\n",
       "  <tbody>\n",
       "    <tr>\n",
       "      <th>0</th>\n",
       "      <td>5</td>\n",
       "      <td>1</td>\n",
       "      <td>1</td>\n",
       "      <td>0</td>\n",
       "      <td>1</td>\n",
       "      <td>c</td>\n",
       "      <td>a</td>\n",
       "      <td>1270</td>\n",
       "      <td>0</td>\n",
       "      <td>0</td>\n",
       "      <td>0</td>\n",
       "      <td>0</td>\n",
       "      <td>1438300800000000000</td>\n",
       "      <td>2524</td>\n",
       "      <td>212</td>\n",
       "    </tr>\n",
       "    <tr>\n",
       "      <th>1</th>\n",
       "      <td>4</td>\n",
       "      <td>1</td>\n",
       "      <td>1</td>\n",
       "      <td>0</td>\n",
       "      <td>1</td>\n",
       "      <td>c</td>\n",
       "      <td>a</td>\n",
       "      <td>1270</td>\n",
       "      <td>0</td>\n",
       "      <td>0</td>\n",
       "      <td>0</td>\n",
       "      <td>0</td>\n",
       "      <td>1438214400000000000</td>\n",
       "      <td>2523</td>\n",
       "      <td>211</td>\n",
       "    </tr>\n",
       "    <tr>\n",
       "      <th>2</th>\n",
       "      <td>3</td>\n",
       "      <td>1</td>\n",
       "      <td>1</td>\n",
       "      <td>0</td>\n",
       "      <td>1</td>\n",
       "      <td>c</td>\n",
       "      <td>a</td>\n",
       "      <td>1270</td>\n",
       "      <td>0</td>\n",
       "      <td>0</td>\n",
       "      <td>0</td>\n",
       "      <td>0</td>\n",
       "      <td>1438128000000000000</td>\n",
       "      <td>2522</td>\n",
       "      <td>210</td>\n",
       "    </tr>\n",
       "    <tr>\n",
       "      <th>3</th>\n",
       "      <td>2</td>\n",
       "      <td>1</td>\n",
       "      <td>1</td>\n",
       "      <td>0</td>\n",
       "      <td>1</td>\n",
       "      <td>c</td>\n",
       "      <td>a</td>\n",
       "      <td>1270</td>\n",
       "      <td>0</td>\n",
       "      <td>0</td>\n",
       "      <td>0</td>\n",
       "      <td>0</td>\n",
       "      <td>1438041600000000000</td>\n",
       "      <td>2521</td>\n",
       "      <td>209</td>\n",
       "    </tr>\n",
       "    <tr>\n",
       "      <th>4</th>\n",
       "      <td>1</td>\n",
       "      <td>1</td>\n",
       "      <td>1</td>\n",
       "      <td>0</td>\n",
       "      <td>1</td>\n",
       "      <td>c</td>\n",
       "      <td>a</td>\n",
       "      <td>1270</td>\n",
       "      <td>0</td>\n",
       "      <td>0</td>\n",
       "      <td>0</td>\n",
       "      <td>0</td>\n",
       "      <td>1437955200000000000</td>\n",
       "      <td>2520</td>\n",
       "      <td>208</td>\n",
       "    </tr>\n",
       "  </tbody>\n",
       "</table>\n",
       "</div>"
      ],
      "text/plain": [
       "   DayOfWeek  Open  Promo StateHoliday  SchoolHoliday StoreType Assortment  \\\n",
       "0          5     1      1            0              1         c          a   \n",
       "1          4     1      1            0              1         c          a   \n",
       "2          3     1      1            0              1         c          a   \n",
       "3          2     1      1            0              1         c          a   \n",
       "4          1     1      1            0              1         c          a   \n",
       "\n",
       "   CompetitionDistance  Promo2  Promo2SinceWeek  Promo2SinceYear  \\\n",
       "0                 1270       0                0                0   \n",
       "1                 1270       0                0                0   \n",
       "2                 1270       0                0                0   \n",
       "3                 1270       0                0                0   \n",
       "4                 1270       0                0                0   \n",
       "\n",
       "  PromoInterval              IntDate  DaysSinceCompetition  DayOfYear  \n",
       "0             0  1438300800000000000                  2524        212  \n",
       "1             0  1438214400000000000                  2523        211  \n",
       "2             0  1438128000000000000                  2522        210  \n",
       "3             0  1438041600000000000                  2521        209  \n",
       "4             0  1437955200000000000                  2520        208  "
      ]
     },
     "execution_count": 184,
     "metadata": {},
     "output_type": "execute_result"
    }
   ],
   "source": [
    "X = df[feature_more]\n",
    "X = X.fillna(0)\n",
    "X.PromoInterval = X.PromoInterval.astype(str).astype(object)\n",
    "X.head()"
   ]
  },
  {
   "cell_type": "code",
   "execution_count": 185,
   "metadata": {
    "collapsed": false
   },
   "outputs": [
    {
     "data": {
      "text/plain": [
       "array(['0', 'Jan,Apr,Jul,Oct', 'Feb,May,Aug,Nov', 'Mar,Jun,Sept,Dec'], dtype=object)"
      ]
     },
     "execution_count": 185,
     "metadata": {},
     "output_type": "execute_result"
    }
   ],
   "source": [
    "X.PromoInterval.unique()"
   ]
  },
  {
   "cell_type": "code",
   "execution_count": 186,
   "metadata": {
    "collapsed": false
   },
   "outputs": [],
   "source": [
    "cat_int_trans_more = CatIntTrans()\n",
    "X_clean = cat_int_trans_more.fit_transform(X)"
   ]
  },
  {
   "cell_type": "code",
   "execution_count": 187,
   "metadata": {
    "collapsed": true
   },
   "outputs": [],
   "source": [
    "X_train = X_clean[df.Open==1]\n",
    "X_train = scaler.fit_transform(X_train)\n",
    "Y_train = np.array(df[df.Open==1].Sales)"
   ]
  },
  {
   "cell_type": "code",
   "execution_count": 188,
   "metadata": {
    "collapsed": true
   },
   "outputs": [],
   "source": [
    "X_train, Y_train = shuffle(X_train, Y_train, random_state=42)"
   ]
  },
  {
   "cell_type": "code",
   "execution_count": 189,
   "metadata": {
    "collapsed": false
   },
   "outputs": [
    {
     "data": {
      "text/plain": [
       "(844392L, 26L)"
      ]
     },
     "execution_count": 189,
     "metadata": {},
     "output_type": "execute_result"
    }
   ],
   "source": [
    "X_train.shape"
   ]
  },
  {
   "cell_type": "code",
   "execution_count": 190,
   "metadata": {
    "collapsed": false
   },
   "outputs": [
    {
     "name": "stdout",
     "output_type": "stream",
     "text": [
      "0.871845975441\n",
      "0.872795427092\n",
      "0.872004983457\n"
     ]
    }
   ],
   "source": [
    "### 3rd submission \n",
    "from sklearn.ensemble import RandomForestRegressor\n",
    "forest = RandomForestRegressor()\n",
    "for train_ind, test_ind in kf:\n",
    "    forest.fit(X_train[train_ind], Y_train[train_ind])\n",
    "    print forest.score(X_train[test_ind], Y_train[test_ind])"
   ]
  },
  {
   "cell_type": "code",
   "execution_count": 191,
   "metadata": {
    "collapsed": false
   },
   "outputs": [
    {
     "name": "stdout",
     "output_type": "stream",
     "text": [
      "0.823687943436\n",
      "0.828820524617\n",
      "0.827822297165\n"
     ]
    }
   ],
   "source": [
    "### 3rd submission \n",
    "from sklearn.ensemble import RandomForestRegressor\n",
    "forest = RandomForestRegressor(max_depth=20)\n",
    "for train_ind, test_ind in kf:\n",
    "    forest.fit(X_train[train_ind], Y_train[train_ind])\n",
    "    print forest.score(X_train[test_ind], Y_train[test_ind])"
   ]
  },
  {
   "cell_type": "code",
   "execution_count": null,
   "metadata": {
    "collapsed": true
   },
   "outputs": [],
   "source": []
  }
 ],
 "metadata": {
  "kernelspec": {
   "display_name": "Python 2",
   "language": "python",
   "name": "python2"
  },
  "language_info": {
   "codemirror_mode": {
    "name": "ipython",
    "version": 2
   },
   "file_extension": ".py",
   "mimetype": "text/x-python",
   "name": "python",
   "nbconvert_exporter": "python",
   "pygments_lexer": "ipython2",
   "version": "2.7.8"
  }
 },
 "nbformat": 4,
 "nbformat_minor": 0
}
